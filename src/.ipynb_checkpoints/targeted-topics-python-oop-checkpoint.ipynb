{
 "cells": [
  {
   "cell_type": "markdown",
   "metadata": {},
   "source": [
    "# Targeted Topics: Advanced Python\n",
    "\n",
    "## Topic 1: Object-oriented programming\n",
    "\n",
    "Rick Copeland<br/>\n",
    "rick@arborian.com<br/>\n",
    "\n",
    "Schedule\n",
    "\n",
    "- Session 1: 7am - 9am PDT\n",
    "- Session 2: 11am - 1pm PDT\n",
    "- Session 3: 2pm - 4pm PDT\n",
    "\n",
    "## Courseware\n",
    "\n",
    "https://bit.ly/tt-python-oop\n",
    "\n",
    "1. Click on the download button, then \"Direct Download\" which will download a zip file to your computer.\n",
    "2. Extract the zip file, then navigate to the `src` directory inside it.\n",
    "3. Open the file `targeted-topics-python-oop.html` in a browser to see this file."
   ]
  },
  {
   "cell_type": "markdown",
   "metadata": {},
   "source": [
    "# While we are waiting to start\n",
    "\n",
    "We use Jupyter notebook ([html][jupyter-html] or [ipynb][jupyter-nb]) for the courseware, so ensuring you can run it will allow you to follow along.\n",
    "\n",
    "If you use Pip, you can use the pip setup instructions ([html][setup-pip-html] or [ipynb][setup-pip-nb]).\n",
    "\n",
    "If you use Anaconda (or wish to), you can use the Anaconda setup instructions ([html][setup-anaconda-html] or [ipynb][setup-anaconda-nb])\n",
    "\n",
    "[jupyter-html]: ./jupyter.html\n",
    "[jupyter-nb]: ./jupyter.ipynb\n",
    "[setup-pip-html]: ./Setup-Pip.html\n",
    "[setup-pip-nb]: ./Setup-Pip.ipynb\n",
    "[setup-anaconda-html]: ./Setup-Anaconda.html\n",
    "[setup-anaconda-nb]: ./Setup-Anaconda.ipynb"
   ]
  },
  {
   "cell_type": "markdown",
   "metadata": {},
   "source": [
    "# About You and Me\n",
    "* What is your job title/what do you do?\n",
    "* Python experience? Other languages?\n",
    "* What do you want to get out of the course? (Particular topics?)"
   ]
  },
  {
   "cell_type": "markdown",
   "metadata": {},
   "source": [
    "# Session Outline\n",
    "\n",
    "- [Introduction to Object-Oriented Python][oop-intro]\n",
    "- [Inheritance in Python][oop-inheritance]\n",
    "- [Magic Methods in Classes][oop-magic]\n",
    "- [Decorators in Classes][oop-decorators]\n",
    "\n",
    "[oop-intro]: ./oop-intro.ipynb\n",
    "[oop-inheritance]: ./oop-inheritance.ipynb\n",
    "[oop-magic]: ./oop-magic.ipynb\n",
    "[oop-decorators]: ./oop-decorators.ipynb"
   ]
  }
 ],
 "metadata": {
  "kernelspec": {
   "display_name": "Python 3",
   "language": "python",
   "name": "python3"
  },
  "language_info": {
   "codemirror_mode": {
    "name": "ipython",
    "version": 3
   },
   "file_extension": ".py",
   "mimetype": "text/x-python",
   "name": "python",
   "nbconvert_exporter": "python",
   "pygments_lexer": "ipython3",
   "version": "3.7.3"
  }
 },
 "nbformat": 4,
 "nbformat_minor": 2
}
