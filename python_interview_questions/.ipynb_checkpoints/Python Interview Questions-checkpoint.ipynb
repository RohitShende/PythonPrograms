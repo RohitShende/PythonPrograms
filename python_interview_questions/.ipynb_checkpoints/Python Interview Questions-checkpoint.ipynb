{
 "cells": [
  {
   "cell_type": "markdown",
   "metadata": {},
   "source": [
    "# Python Interview Questions"
   ]
  },
  {
   "cell_type": "markdown",
   "metadata": {},
   "source": [
    "## Basic Topics"
   ]
  },
  {
   "cell_type": "markdown",
   "metadata": {
    "ExecuteTime": {
     "end_time": "2020-05-28T13:22:01.399305Z",
     "start_time": "2020-05-28T13:22:01.370382Z"
    }
   },
   "source": [
    "- Basic Interview Questions - https://www.interviewbit.com/python-interview-questions/\n",
    "- Top 53 Interview Questions (Medium) - https://towardsdatascience.com/53-python-interview-questions-and-answers-91fa311eec3f\n",
    "- Top 40 Interview Python interview Questions - https://www.guru99.com/python-interview-questions-answers.html\n",
    "- Hacker Rank Interview Preparation Kit - https://www.hackerrank.com/interview/interview-preparation-kit"
   ]
  },
  {
   "cell_type": "markdown",
   "metadata": {},
   "source": [
    "**Q1.  What is a tuple ?**\n",
    "<pre>\n",
    "Answer - A tuple is an immutable sequence of Python objects. Tuples are sequences, just like lists. The differences between tuples and lists are, the tuples cannot be changed unlike lists and tuples use parentheses, whereas lists use square brackets.\n",
    "\n",
    "example - (1,2)  or (1,2,3,5)  or (1,)   <=== tuple with single element \n",
    "1,  <== even this is a tuple\n",
    "</pre>"
   ]
  },
  {
   "cell_type": "code",
   "execution_count": 31,
   "metadata": {
    "ExecuteTime": {
     "end_time": "2020-05-29T04:54:04.643130Z",
     "start_time": "2020-05-29T04:54:04.632212Z"
    }
   },
   "outputs": [
    {
     "data": {
      "text/plain": [
       "True"
      ]
     },
     "execution_count": 31,
     "metadata": {},
     "output_type": "execute_result"
    }
   ],
   "source": [
    "a = (1,)\n",
    "b = 1,2,4\n",
    "c = 1,\n",
    "d = (1,2.4,3,\"A\")\n",
    "type(a) == type(b) == type(c) == type(d) == tuple"
   ]
  },
  {
   "cell_type": "markdown",
   "metadata": {},
   "source": [
    "**Q2.  What are the inbuilt methods of tuple ?**"
   ]
  },
  {
   "cell_type": "code",
   "execution_count": 34,
   "metadata": {
    "ExecuteTime": {
     "end_time": "2020-05-29T04:57:45.874065Z",
     "start_time": "2020-05-29T04:57:45.865089Z"
    }
   },
   "outputs": [
    {
     "name": "stdout",
     "output_type": "stream",
     "text": [
      "Methods for list ['append', 'clear', 'copy', 'count', 'extend', 'index', 'insert', 'pop', 'remove', 'reverse', 'sort']\n",
      "Methods for tuple ['count', 'index']\n"
     ]
    }
   ],
   "source": [
    "a = (1,2,3)\n",
    "a_list = [1,2,2]\n",
    "print('Methods for list', [i for i in dir(a_list) if not i.startswith('_')])\n",
    "print('Methods for tuple', [i for i in dir(a) if not i.startswith('_')])"
   ]
  },
  {
   "cell_type": "markdown",
   "metadata": {},
   "source": [
    "**Q3.  If a tuple is immutable what will be the output of the below ?**"
   ]
  },
  {
   "cell_type": "code",
   "execution_count": 39,
   "metadata": {
    "ExecuteTime": {
     "end_time": "2020-05-29T04:59:50.480284Z",
     "start_time": "2020-05-29T04:59:50.471312Z"
    }
   },
   "outputs": [
    {
     "name": "stdout",
     "output_type": "stream",
     "text": [
      "([1, 2, 3], [4, 5, 6])\n"
     ]
    }
   ],
   "source": [
    "x = [1,2,3]\n",
    "y = [4,5]\n",
    "t = (x, y)\n",
    "t[1].append(6)\n",
    "print(t)"
   ]
  },
  {
   "cell_type": "markdown",
   "metadata": {},
   "source": [
    "**Q4.  Internal working of list, dictionary, set in python. What do they use ?**\n",
    "<pre>Answer -\n",
    "<i>List</i> - they internally use arrays - <a href='https://www.geeksforgeeks.org/internal-working-of-list-in-python/?ref=rp'>https://www.geeksforgeeks.org/internal-working-of-list-in-python/</a>\n",
    "<i>Dictionary</i> - they use hash tables for their implementation\n",
    "<i>Set</i> - they use dictionaries with dummy value  - <a href='https://www.geeksforgeeks.org/internal-working-of-set-in-python/'>https://www.geeksforgeeks.org/internal-working-of-set-in-python/</a>\n",
    "</pre>"
   ]
  },
  {
   "cell_type": "markdown",
   "metadata": {
    "ExecuteTime": {
     "end_time": "2020-05-28T20:01:08.095814Z",
     "start_time": "2020-05-28T20:01:08.088833Z"
    }
   },
   "source": [
    "**Q5.  What are sets ?**\n",
    "<pre>\n",
    "Answer - Unordered collections of unique elements\n",
    "</pre>\n"
   ]
  },
  {
   "cell_type": "markdown",
   "metadata": {},
   "source": [
    "**Q6.  What is pickling and unpickling?**\n",
    "<pre>\n",
    "Answer - Pickle module accepts any Python object and converts it into a string representation and dumps it into a file by using dump function, this process is called pickling. While the process of retrieving original Python objects from the stored string representation is called unpickling. </pre>"
   ]
  },
  {
   "cell_type": "markdown",
   "metadata": {},
   "source": [
    "## OOPS & Functions"
   ]
  },
  {
   "cell_type": "code",
   "execution_count": 45,
   "metadata": {
    "ExecuteTime": {
     "end_time": "2020-05-29T05:11:51.690176Z",
     "start_time": "2020-05-29T05:11:51.671745Z"
    }
   },
   "outputs": [
    {
     "ename": "TypeError",
     "evalue": "add() missing 1 required positional argument: 'b'",
     "output_type": "error",
     "traceback": [
      "\u001b[1;31m---------------------------------------------------------------------------\u001b[0m",
      "\u001b[1;31mTypeError\u001b[0m                                 Traceback (most recent call last)",
      "\u001b[1;32m<ipython-input-45-bf13baaebb10>\u001b[0m in \u001b[0;36m<module>\u001b[1;34m\u001b[0m\n\u001b[0;32m      8\u001b[0m     \u001b[1;32mreturn\u001b[0m \u001b[0ma\u001b[0m\u001b[1;33m+\u001b[0m\u001b[0mb\u001b[0m\u001b[1;33m\u001b[0m\u001b[1;33m\u001b[0m\u001b[0m\n\u001b[0;32m      9\u001b[0m \u001b[1;31m# add is a function with 2 parameters\u001b[0m\u001b[1;33m\u001b[0m\u001b[1;33m\u001b[0m\u001b[1;33m\u001b[0m\u001b[0m\n\u001b[1;32m---> 10\u001b[1;33m \u001b[0madd\u001b[0m\u001b[1;33m(\u001b[0m\u001b[1;36m12\u001b[0m\u001b[1;33m)\u001b[0m\u001b[1;33m\u001b[0m\u001b[1;33m\u001b[0m\u001b[0m\n\u001b[0m\u001b[0;32m     11\u001b[0m \u001b[0madd\u001b[0m\u001b[1;33m(\u001b[0m\u001b[1;36m12\u001b[0m\u001b[1;33m,\u001b[0m \u001b[1;36m3\u001b[0m\u001b[1;33m)\u001b[0m\u001b[1;33m\u001b[0m\u001b[1;33m\u001b[0m\u001b[0m\n",
      "\u001b[1;31mTypeError\u001b[0m: add() missing 1 required positional argument: 'b'"
     ]
    }
   ],
   "source": [
    "## Q1. What is the output of the following code ?\n",
    "\n",
    "def add(a):\n",
    "    return a\n",
    "# add is a function with 1 parameter\n",
    "\n",
    "def add(a, b):\n",
    "    return a+b\n",
    "# add is a function with 2 parameters\n",
    "add(12)\n",
    "add(12, 3)"
   ]
  },
  {
   "cell_type": "code",
   "execution_count": 44,
   "metadata": {
    "ExecuteTime": {
     "end_time": "2020-05-29T05:10:42.813594Z",
     "start_time": "2020-05-29T05:10:42.808604Z"
    }
   },
   "outputs": [
    {
     "name": "stdout",
     "output_type": "stream",
     "text": [
      "Inside fun 434\n",
      "Inside fun 434\n"
     ]
    }
   ],
   "source": [
    "def fun(a):\n",
    "    print(\"Inside fun\", a)\n",
    "# fun is a function\n",
    "\n",
    "rohit_fun = fun\n",
    "# rohit_fun is also a function\n",
    "\n",
    "rohit_fun(434)\n",
    "fun(434)"
   ]
  },
  {
   "cell_type": "code",
   "execution_count": 46,
   "metadata": {
    "ExecuteTime": {
     "end_time": "2020-05-29T05:14:41.692304Z",
     "start_time": "2020-05-29T05:14:41.686320Z"
    }
   },
   "outputs": [
    {
     "name": "stdout",
     "output_type": "stream",
     "text": [
      "5\n"
     ]
    }
   ],
   "source": [
    "## Q2. What is the output of the following code ?\n",
    "\n",
    "def square(a):\n",
    "    a = a ** 2\n",
    "    # a is dead\n",
    "\n",
    "# call by value and call be reference\n",
    "a = 5\n",
    "square(a)\n",
    "print(a)"
   ]
  },
  {
   "cell_type": "code",
   "execution_count": 48,
   "metadata": {
    "ExecuteTime": {
     "end_time": "2020-05-29T05:16:48.731401Z",
     "start_time": "2020-05-29T05:16:48.724107Z"
    }
   },
   "outputs": [
    {
     "name": "stdout",
     "output_type": "stream",
     "text": [
      "[1, 2, 3, 4, 5, 6]\n"
     ]
    }
   ],
   "source": [
    "## Q3. What is the output of the following code ?\n",
    "\n",
    "def append_to_list(lst):\n",
    "    lst.append(6)\n",
    "\n",
    "a = [1,2,3,4,5]\n",
    "append_to_list(a)\n",
    "print(a)"
   ]
  },
  {
   "cell_type": "code",
   "execution_count": 49,
   "metadata": {
    "ExecuteTime": {
     "end_time": "2020-05-29T05:18:50.797888Z",
     "start_time": "2020-05-29T05:18:50.788356Z"
    }
   },
   "outputs": [
    {
     "name": "stdout",
     "output_type": "stream",
     "text": [
      "10 20\n"
     ]
    }
   ],
   "source": [
    "## Q4. What is the output of the following code ?\n",
    "\n",
    "class Obj:\n",
    "    x = 1\n",
    "    y = 2\n",
    "    \n",
    "def initialize_object(o):\n",
    "    o.x = 10\n",
    "    o.y = 20\n",
    "\n",
    "obj = Obj()\n",
    "initialize_object(obj)\n",
    "print(obj.x, obj.y)"
   ]
  },
  {
   "cell_type": "code",
   "execution_count": 55,
   "metadata": {
    "ExecuteTime": {
     "end_time": "2020-05-29T05:25:49.750775Z",
     "start_time": "2020-05-29T05:25:49.741802Z"
    }
   },
   "outputs": [
    {
     "name": "stdout",
     "output_type": "stream",
     "text": [
      "[1, 2, 3]\n",
      "[10, 20, 3]\n",
      "[1, 2, 3, 3]\n"
     ]
    }
   ],
   "source": [
    "## Q5. What is the output of the following code ?\n",
    "\n",
    "def append_to_list_default(lst = [1,2]):\n",
    "    lst.append(3)\n",
    "    return lst\n",
    "\n",
    "print(append_to_list_default())\n",
    "print(append_to_list_default([10,20]))\n",
    "print(append_to_list_default())"
   ]
  },
  {
   "cell_type": "code",
   "execution_count": 56,
   "metadata": {
    "ExecuteTime": {
     "end_time": "2020-05-29T05:26:36.557346Z",
     "start_time": "2020-05-29T05:26:36.549367Z"
    }
   },
   "outputs": [
    {
     "name": "stdout",
     "output_type": "stream",
     "text": [
      "28\n"
     ]
    }
   ],
   "source": [
    "## Q6. What is the output of the following code ?\n",
    "\n",
    "def fun(x):\n",
    "    return (x ** 2) + 3\n",
    "\n",
    "my_fun = fun\n",
    "\n",
    "print(my_fun(5))"
   ]
  },
  {
   "cell_type": "code",
   "execution_count": 64,
   "metadata": {
    "ExecuteTime": {
     "end_time": "2020-05-29T05:37:08.419987Z",
     "start_time": "2020-05-29T05:37:08.393902Z"
    }
   },
   "outputs": [
    {
     "name": "stdout",
     "output_type": "stream",
     "text": [
      "6\n",
      "3\n",
      "3\n",
      "['__class__', '__delattr__', '__dict__', '__dir__', '__doc__', '__eq__', '__format__', '__ge__', '__getattribute__', '__gt__', '__hash__', '__init__', '__init_subclass__', '__le__', '__lt__', '__module__', '__ne__', '__new__', '__reduce__', '__reduce_ex__', '__repr__', '__setattr__', '__sizeof__', '__str__', '__subclasshook__', '__weakref__', 'add', 'x', 'y', 'z']\n"
     ]
    },
    {
     "ename": "AttributeError",
     "evalue": "'A' object has no attribute 'add'",
     "output_type": "error",
     "traceback": [
      "\u001b[1;31m---------------------------------------------------------------------------\u001b[0m",
      "\u001b[1;31mAttributeError\u001b[0m                            Traceback (most recent call last)",
      "\u001b[1;32m<ipython-input-64-9842b917ba9e>\u001b[0m in \u001b[0;36m<module>\u001b[1;34m\u001b[0m\n\u001b[0;32m     20\u001b[0m \u001b[1;32mdel\u001b[0m \u001b[0mA\u001b[0m\u001b[1;33m.\u001b[0m\u001b[0madd\u001b[0m\u001b[1;33m\u001b[0m\u001b[1;33m\u001b[0m\u001b[0m\n\u001b[0;32m     21\u001b[0m \u001b[0ma3\u001b[0m \u001b[1;33m=\u001b[0m \u001b[0mA\u001b[0m\u001b[1;33m(\u001b[0m\u001b[1;33m)\u001b[0m\u001b[1;33m\u001b[0m\u001b[1;33m\u001b[0m\u001b[0m\n\u001b[1;32m---> 22\u001b[1;33m \u001b[0mprint\u001b[0m\u001b[1;33m(\u001b[0m\u001b[0ma3\u001b[0m\u001b[1;33m.\u001b[0m\u001b[0madd\u001b[0m\u001b[1;33m(\u001b[0m\u001b[1;33m)\u001b[0m\u001b[1;33m)\u001b[0m\u001b[1;33m\u001b[0m\u001b[1;33m\u001b[0m\u001b[0m\n\u001b[0m",
      "\u001b[1;31mAttributeError\u001b[0m: 'A' object has no attribute 'add'"
     ]
    }
   ],
   "source": [
    "## Q7. What is the output of the following code ?\n",
    "\n",
    "class A:\n",
    "    x, y , z = 1, 2, 3\n",
    "\n",
    "    def add(self):\n",
    "        return self.x + self.y + self.z\n",
    "\n",
    "a1 = A()\n",
    "print(a1.add())  # op - 6\n",
    "\n",
    "A.y = 1\n",
    "A.z = 1\n",
    "a2 = A()\n",
    "print(a1.add()) # ? 3 or 6\n",
    "print(a2.add())  # op - 3\n",
    "\n",
    "print(dir(A))\n",
    "\n",
    "del A.add\n",
    "a3 = A()\n",
    "print(a3.add())"
   ]
  },
  {
   "cell_type": "code",
   "execution_count": null,
   "metadata": {},
   "outputs": [],
   "source": [
    "a = A(4)                     class A:\n",
    "                                x = 2\n",
    "                                def __init__(self, y):\n",
    "                                    self.y = y\n",
    "b = A(3)"
   ]
  },
  {
   "cell_type": "code",
   "execution_count": 76,
   "metadata": {
    "ExecuteTime": {
     "end_time": "2020-05-29T05:46:11.493441Z",
     "start_time": "2020-05-29T05:46:11.483468Z"
    }
   },
   "outputs": [
    {
     "name": "stdout",
     "output_type": "stream",
     "text": [
      "<generator object print_even at 0x00000243A4E29ED0>\n",
      "[0, 2, 4, 6, 8, 10, 12, 14, 16, 18, 20, 22, 24, 26, 28, 30, 32, 34, 36, 38, 40, 42, 44, 46, 48]\n"
     ]
    }
   ],
   "source": [
    "## Q8. What is yield keyword ?\n",
    "\n",
    "# generator to print even numbers \n",
    "def print_even() : \n",
    "    for i in range(50): \n",
    "        if i % 2 == 0: \n",
    "            yield i \n",
    "            \n",
    "print(print_even())\n",
    "print([i for i in print_even()])    "
   ]
  },
  {
   "cell_type": "markdown",
   "metadata": {
    "ExecuteTime": {
     "end_time": "2020-05-24T18:03:42.572796Z",
     "start_time": "2020-05-24T18:03:42.568804Z"
    }
   },
   "source": [
    "## Advanced"
   ]
  },
  {
   "cell_type": "markdown",
   "metadata": {},
   "source": [
    "Q1.  What are lambda functions ?"
   ]
  },
  {
   "cell_type": "code",
   "execution_count": 77,
   "metadata": {
    "ExecuteTime": {
     "end_time": "2020-05-29T05:47:26.307086Z",
     "start_time": "2020-05-29T05:47:26.300106Z"
    }
   },
   "outputs": [
    {
     "data": {
      "text/plain": [
       "11"
      ]
     },
     "execution_count": 77,
     "metadata": {},
     "output_type": "execute_result"
    }
   ],
   "source": [
    "x_plus_5 = lambda x: 5+x\n",
    "x_plus_5(6)"
   ]
  },
  {
   "cell_type": "markdown",
   "metadata": {},
   "source": [
    "Q2.  Can you give examples of map, reduce and filter ?"
   ]
  },
  {
   "cell_type": "code",
   "execution_count": 93,
   "metadata": {
    "ExecuteTime": {
     "end_time": "2020-05-29T06:02:53.678403Z",
     "start_time": "2020-05-29T06:02:53.667435Z"
    }
   },
   "outputs": [
    {
     "name": "stdout",
     "output_type": "stream",
     "text": [
      "[4, 5, 6, 7, 8]\n",
      "[6, 7, 8, 9, 10]\n",
      "[5, 10, 15, 20, 25, 30, 35, 40, 45, 50, 55, 60, 65, 70, 75, 80, 85, 90, 95, 100]\n",
      "120\n"
     ]
    }
   ],
   "source": [
    "from functools import reduce\n",
    "\n",
    "print(list(map(lambda x: x+3, [1,2,3,4,5])))\n",
    "print(list(map(x_plus_5, range(1,6))))\n",
    "\n",
    "print(list(filter(lambda x: x%5 == 0, range(1, 101))))\n",
    "\n",
    "#factorial = 1 * 2 * 3 * 4 * 5\n",
    "\n",
    "n = 5\n",
    "print(reduce(lambda prod, x: prod * x ,range(1,n+1)))"
   ]
  },
  {
   "cell_type": "code",
   "execution_count": 90,
   "metadata": {
    "ExecuteTime": {
     "end_time": "2020-05-29T05:58:01.252017Z",
     "start_time": "2020-05-29T05:58:01.245035Z"
    }
   },
   "outputs": [
    {
     "name": "stdout",
     "output_type": "stream",
     "text": [
      "[5, 4, 3, 2, 1]\n",
      "[1, 2, 3, 4, 5]\n"
     ]
    }
   ],
   "source": [
    "#  reduce(operation, iterable)\n",
    "print(list(range(1,6)))"
   ]
  },
  {
   "cell_type": "markdown",
   "metadata": {},
   "source": [
    "Q3.  What are Iterators, Generators and Decorators ?"
   ]
  },
  {
   "cell_type": "code",
   "execution_count": null,
   "metadata": {},
   "outputs": [],
   "source": []
  },
  {
   "cell_type": "markdown",
   "metadata": {
    "ExecuteTime": {
     "end_time": "2020-05-28T20:06:58.137037Z",
     "start_time": "2020-05-28T20:06:58.132049Z"
    }
   },
   "source": [
    "Q4.  What are Meta Classes ?"
   ]
  },
  {
   "cell_type": "code",
   "execution_count": null,
   "metadata": {},
   "outputs": [],
   "source": []
  },
  {
   "cell_type": "markdown",
   "metadata": {
    "ExecuteTime": {
     "end_time": "2020-05-28T20:06:58.474644Z",
     "start_time": "2020-05-28T20:06:58.468660Z"
    }
   },
   "source": [
    "Q5.  What are ABC (Abstract Base Classes) ?"
   ]
  },
  {
   "cell_type": "code",
   "execution_count": null,
   "metadata": {},
   "outputs": [],
   "source": []
  },
  {
   "cell_type": "markdown",
   "metadata": {},
   "source": [
    "Q6.  What is MRO (Method Resolution Order) ? How it helps to solve the Multiple Inheritance issue ?"
   ]
  },
  {
   "cell_type": "code",
   "execution_count": null,
   "metadata": {},
   "outputs": [],
   "source": []
  },
  {
   "cell_type": "markdown",
   "metadata": {},
   "source": [
    "## Points to Remember"
   ]
  },
  {
   "cell_type": "markdown",
   "metadata": {},
   "source": [
    "#### Video Interview Tips\n",
    "- Find a quiet, private, well-lit place, free from possible interruptions.\n",
    "- Ensure your internet connection is stable.\n",
    "- Check that your computer’s audio is working.\n",
    "- Test your computer’s webcam.\n",
    "- Close any unnecessary web browser tabs and applications.\n",
    "- Dress professionally and avoid bright colors.\n",
    "- Have a pen, notepad and copy of your resume on your desk.\n",
    "- When listening, nod and smile to show you are engaged.\n",
    "- Use hand gestures when appropriate.\n",
    "- Place your phone in silent mode."
   ]
  },
  {
   "cell_type": "markdown",
   "metadata": {
    "ExecuteTime": {
     "end_time": "2020-05-28T20:14:37.502890Z",
     "start_time": "2020-05-28T20:14:37.498900Z"
    }
   },
   "source": [
    "#### Specific Company Interview Preparation (PTC - https://www.glassdoor.co.in/Interview/PTC-Pune-Interview-Questions-EI_IE1855.0,3_IL.4,8_IM1072.htm)\n",
    "#### Online coding competitions / rounds before interview and its importance\n",
    "#### Making our profile stronger by updating Linkedin and Github"
   ]
  },
  {
   "cell_type": "markdown",
   "metadata": {},
   "source": [
    "## Questions ??"
   ]
  },
  {
   "cell_type": "code",
   "execution_count": 30,
   "metadata": {
    "ExecuteTime": {
     "end_time": "2020-05-29T04:45:44.680273Z",
     "start_time": "2020-05-29T04:45:44.671655Z"
    }
   },
   "outputs": [
    {
     "data": {
      "text/plain": [
       "True"
      ]
     },
     "execution_count": 30,
     "metadata": {},
     "output_type": "execute_result"
    }
   ],
   "source": [
    "a = [1,2]\n",
    "b = [1,2]\n",
    "\n",
    "# everything in python is an object\n",
    "a = 1\n",
    "b= True\n",
    "\n",
    "def fun():\n",
    "    pass\n",
    "fun\n",
    "\n",
    "id(a), id(b)\n",
    "\n",
    "a == b"
   ]
  },
  {
   "cell_type": "markdown",
   "metadata": {},
   "source": [
    "Email - rohitshende16@gmail.com"
   ]
  }
 ],
 "metadata": {
  "kernelspec": {
   "display_name": "Python 3",
   "language": "python",
   "name": "python3"
  },
  "language_info": {
   "codemirror_mode": {
    "name": "ipython",
    "version": 3
   },
   "file_extension": ".py",
   "mimetype": "text/x-python",
   "name": "python",
   "nbconvert_exporter": "python",
   "pygments_lexer": "ipython3",
   "version": "3.7.3"
  },
  "toc": {
   "base_numbering": 1,
   "nav_menu": {},
   "number_sections": true,
   "sideBar": true,
   "skip_h1_title": false,
   "title_cell": "Table of Contents",
   "title_sidebar": "Contents",
   "toc_cell": false,
   "toc_position": {},
   "toc_section_display": true,
   "toc_window_display": false
  }
 },
 "nbformat": 4,
 "nbformat_minor": 2
}
