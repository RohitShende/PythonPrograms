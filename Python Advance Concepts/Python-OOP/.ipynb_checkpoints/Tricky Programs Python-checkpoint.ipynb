{
 "cells": [
  {
   "cell_type": "markdown",
   "metadata": {},
   "source": [
    "#### Visualization Number 1\n",
    "`local`, `nonlocal` and `global` variables"
   ]
  },
  {
   "cell_type": "code",
   "execution_count": null,
   "metadata": {},
   "outputs": [],
   "source": [
    "a = 1\n",
    "\n",
    "def fun():\n",
    "    print(a)\n",
    "    a = 2\n",
    "    print(a)\n",
    "\n",
    "print(f'a outside before calling fun {a}')\n",
    "fun()\n",
    "print(f'a outside after calling fun {a}')"
   ]
  },
  {
   "cell_type": "code",
   "execution_count": 7,
   "metadata": {},
   "outputs": [
    {
     "name": "stdout",
     "output_type": "stream",
     "text": [
      "outside x 1\n",
      "inside myfun x 2\n",
      "inside innerfun 3\n",
      "inside myfun x 2 after calling innerfun\n",
      "outside x 1 after calling myfun\n"
     ]
    }
   ],
   "source": [
    "x = 1\n",
    "\n",
    "def myfun():\n",
    "    x = 2\n",
    "    print(f'inside myfun x {x}')\n",
    "    def innerfun():\n",
    "        x = 3\n",
    "        print(f'inside innerfun {x}')\n",
    "    innerfun()\n",
    "    print(f'inside myfun x {x} after calling innerfun')\n",
    "    \n",
    "print(f'outside x {x}')\n",
    "myfun()\n",
    "print(f'outside x {x} after calling myfun')"
   ]
  },
  {
   "cell_type": "code",
   "execution_count": 8,
   "metadata": {},
   "outputs": [
    {
     "name": "stdout",
     "output_type": "stream",
     "text": [
      "outside x 1\n",
      "inside myfun x 2\n",
      "inside innerfun 3\n",
      "inside myfun x 3 after calling innerfun\n",
      "outside x 3 after calling myfun\n"
     ]
    }
   ],
   "source": [
    "x = 1\n",
    "\n",
    "def myfun():\n",
    "    global x\n",
    "    x = 2\n",
    "    print(f'inside myfun x {x}')\n",
    "    def innerfun():\n",
    "        global x\n",
    "        x = 3\n",
    "        print(f'inside innerfun {x}')\n",
    "    innerfun()\n",
    "    print(f'inside myfun x {x} after calling innerfun')\n",
    "    \n",
    "print(f'outside x {x}')\n",
    "myfun()\n",
    "print(f'outside x {x} after calling myfun')"
   ]
  },
  {
   "cell_type": "code",
   "execution_count": 10,
   "metadata": {
    "scrolled": true
   },
   "outputs": [
    {
     "name": "stdout",
     "output_type": "stream",
     "text": [
      "outside x 1\n",
      "inside myfun x 2\n",
      "inside innerfun 3\n",
      "inside myfun x 3 after calling innerfun\n",
      "outside x 1 after calling myfun\n"
     ]
    }
   ],
   "source": [
    "x = 1\n",
    "\n",
    "def myfun():\n",
    "    x = 2\n",
    "    print(f'inside myfun x {x}')\n",
    "    def innerfun():\n",
    "        nonlocal x\n",
    "        x = 3\n",
    "        print(f'inside innerfun {x}')\n",
    "    innerfun()\n",
    "    print(f'inside myfun x {x} after calling innerfun')\n",
    "    \n",
    "print(f'outside x {x}')\n",
    "myfun()\n",
    "print(f'outside x {x} after calling myfun')"
   ]
  },
  {
   "cell_type": "markdown",
   "metadata": {},
   "source": [
    "#### Visualization Number 2\n",
    "recursion working"
   ]
  },
  {
   "cell_type": "code",
   "execution_count": 15,
   "metadata": {},
   "outputs": [
    {
     "name": "stdout",
     "output_type": "stream",
     "text": [
      "120\n"
     ]
    }
   ],
   "source": [
    "def fact(n):\n",
    "    return n*fact(n-1) if n > 1 else 1 \n",
    "\n",
    "print(fact(5))"
   ]
  },
  {
   "cell_type": "markdown",
   "metadata": {},
   "source": [
    "http://www.pythontutor.com/live.html#code=def%20fact%28n%29%3A%0A%20%20%20%20return%20n*fact%28n-1%29%20if%20n%20%3E%201%20else%201%20%0A%0Aprint%28fact%285%29%29&cumulative=false&curInstr=17&heapPrimitives=nevernest&mode=display&origin=opt-live.js&py=3&rawInputLstJSON=%5B%5D&textReferences=false"
   ]
  },
  {
   "cell_type": "code",
   "execution_count": null,
   "metadata": {},
   "outputs": [],
   "source": []
  }
 ],
 "metadata": {
  "kernelspec": {
   "display_name": "Python 3",
   "language": "python",
   "name": "python3"
  },
  "language_info": {
   "codemirror_mode": {
    "name": "ipython",
    "version": 3
   },
   "file_extension": ".py",
   "mimetype": "text/x-python",
   "name": "python",
   "nbconvert_exporter": "python",
   "pygments_lexer": "ipython3",
   "version": "3.7.3"
  }
 },
 "nbformat": 4,
 "nbformat_minor": 2
}
