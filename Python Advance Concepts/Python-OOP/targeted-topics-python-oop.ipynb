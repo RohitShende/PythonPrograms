{
 "cells": [
  {
   "cell_type": "markdown",
   "metadata": {},
   "source": [
    "# Targeted Topics: Advanced Python\n",
    "\n",
    "## Topic 1: Object-oriented programming\n",
    "\n",
    "Rick Copeland<br/>\n",
    "rick@arborian.com<br/>\n",
    "\n",
    "Schedule\n",
    "\n",
    "- Session 1: 7am - 9am PDT\n",
    "- Session 2: 11am - 1pm PDT\n",
    "- Session 3: 2pm - 4pm PDT\n",
    "\n",
    "https://bit.ly/tt-python-oop"
   ]
  },
  {
   "cell_type": "markdown",
   "metadata": {},
   "source": [
    "# While we are waiting to start\n",
    "\n",
    "We use Jupyter for the courseware, so ensuring you can run it will allow you to follow along.\n",
    "\n",
    "If you use Pip, you can use the [pip setup instructions][setup-pip]\n",
    "\n",
    "If you use Anaconda (or wish to), you can use the [Anaconda setup instructions][setup-anaconda]\n",
    "\n",
    "[setup-pip]: ./Setup-Pip.html\n",
    "[setup-anaconda]: ./Setup-Anaconda.html"
   ]
  },
  {
   "cell_type": "markdown",
   "metadata": {},
   "source": [
    "# About You and Me\n",
    "* What is your job title/what do you do?\n",
    "* Python experience? Other languages?\n",
    "* What do you want to get out of the course? (Particular topics?)"
   ]
  },
  {
   "cell_type": "markdown",
   "metadata": {},
   "source": [
    "# Session Outline\n",
    "\n",
    "- [Introduction to Object-Oriented Python][oop-intro]\n",
    "- [Inheritance in Python][oop-inheritance]\n",
    "- [Magic Methods in Classes][oop-magic]\n",
    "- [Decorators in Classes][oop-decorators]\n",
    "\n",
    "[oop-intro]: ./oop-intro.ipynb\n",
    "[oop-inheritance]: ./oop-inheritance.ipynb\n",
    "[oop-magic]: ./oop-magic.ipynb\n",
    "[oop-decorators]: ./oop-decorators.ipynb"
   ]
  }
 ],
 "metadata": {
  "kernelspec": {
   "display_name": "Python 3",
   "language": "python",
   "name": "python3"
  },
  "language_info": {
   "codemirror_mode": {
    "name": "ipython",
    "version": 3
   },
   "file_extension": ".py",
   "mimetype": "text/x-python",
   "name": "python",
   "nbconvert_exporter": "python",
   "pygments_lexer": "ipython3",
   "version": "3.7.3"
  }
 },
 "nbformat": 4,
 "nbformat_minor": 2
}
