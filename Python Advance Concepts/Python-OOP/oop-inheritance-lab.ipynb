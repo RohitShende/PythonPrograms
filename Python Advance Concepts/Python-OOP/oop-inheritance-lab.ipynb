{
 "cells": [
  {
   "cell_type": "markdown",
   "metadata": {},
   "source": [
    "# Object-Oriented Inheritance Lab\n",
    "\n",
    "Write a class to manage a telephone directory. The directory should be \n",
    "stored in a dict as an instance variable. The class should have methods\n",
    "`add_number(name, number)`, `remove_number(name)`, and `lookup_number(name)`."
   ]
  },
  {
   "cell_type": "code",
   "execution_count": 15,
   "metadata": {},
   "outputs": [],
   "source": [
    "class TelephoneDirectory:\n",
    "    def __init__(self):\n",
    "        self.__directory = {}\n",
    "    def add_number(self, name, number):\n",
    "        self.__directory[name] = number\n",
    "        print(f'{name} {number} added to telephone directory')\n",
    "    def remove_number(self, name):\n",
    "        del self.__directory[name]\n",
    "        print(f'{name} removed from telephone directory')\n",
    "\n",
    "    def lookup_number(self, name):\n",
    "        return self.__directory[name]"
   ]
  },
  {
   "cell_type": "code",
   "execution_count": 16,
   "metadata": {},
   "outputs": [
    {
     "name": "stdout",
     "output_type": "stream",
     "text": [
      "rohit 12345 added to telephone directory\n",
      "abc 2346 added to telephone directory\n",
      "xyz 1234521 added to telephone directory\n",
      "abc removed from telephone directory\n"
     ]
    }
   ],
   "source": [
    "tel = TelephoneDirectory()\n",
    "tel.add_number('rohit', 12345)\n",
    "tel.add_number('abc', 2346)\n",
    "tel.add_number('xyz', 1234521)\n",
    "tel.remove_number('abc')"
   ]
  },
  {
   "cell_type": "code",
   "execution_count": 17,
   "metadata": {},
   "outputs": [
    {
     "ename": "KeyError",
     "evalue": "'abc'",
     "output_type": "error",
     "traceback": [
      "\u001b[1;31m---------------------------------------------------------------------------\u001b[0m",
      "\u001b[1;31mKeyError\u001b[0m                                  Traceback (most recent call last)",
      "\u001b[1;32m<ipython-input-17-c65a72a5dd43>\u001b[0m in \u001b[0;36m<module>\u001b[1;34m\u001b[0m\n\u001b[1;32m----> 1\u001b[1;33m \u001b[0mtel\u001b[0m\u001b[1;33m.\u001b[0m\u001b[0mremove_number\u001b[0m\u001b[1;33m(\u001b[0m\u001b[1;34m'abc'\u001b[0m\u001b[1;33m)\u001b[0m\u001b[1;33m\u001b[0m\u001b[1;33m\u001b[0m\u001b[0m\n\u001b[0m",
      "\u001b[1;32m<ipython-input-15-d5953612be29>\u001b[0m in \u001b[0;36mremove_number\u001b[1;34m(self, name)\u001b[0m\n\u001b[0;32m      6\u001b[0m         \u001b[0mprint\u001b[0m\u001b[1;33m(\u001b[0m\u001b[1;34mf'{name} {number} added to telephone directory'\u001b[0m\u001b[1;33m)\u001b[0m\u001b[1;33m\u001b[0m\u001b[1;33m\u001b[0m\u001b[0m\n\u001b[0;32m      7\u001b[0m     \u001b[1;32mdef\u001b[0m \u001b[0mremove_number\u001b[0m\u001b[1;33m(\u001b[0m\u001b[0mself\u001b[0m\u001b[1;33m,\u001b[0m \u001b[0mname\u001b[0m\u001b[1;33m)\u001b[0m\u001b[1;33m:\u001b[0m\u001b[1;33m\u001b[0m\u001b[1;33m\u001b[0m\u001b[0m\n\u001b[1;32m----> 8\u001b[1;33m         \u001b[1;32mdel\u001b[0m \u001b[0mself\u001b[0m\u001b[1;33m.\u001b[0m\u001b[0m__directory\u001b[0m\u001b[1;33m[\u001b[0m\u001b[0mname\u001b[0m\u001b[1;33m]\u001b[0m\u001b[1;33m\u001b[0m\u001b[1;33m\u001b[0m\u001b[0m\n\u001b[0m\u001b[0;32m      9\u001b[0m         \u001b[0mprint\u001b[0m\u001b[1;33m(\u001b[0m\u001b[1;34mf'{name} removed from telephone directory'\u001b[0m\u001b[1;33m)\u001b[0m\u001b[1;33m\u001b[0m\u001b[1;33m\u001b[0m\u001b[0m\n\u001b[0;32m     10\u001b[0m \u001b[1;33m\u001b[0m\u001b[0m\n",
      "\u001b[1;31mKeyError\u001b[0m: 'abc'"
     ]
    }
   ],
   "source": [
    "tel.remove_number('abc')"
   ]
  },
  {
   "cell_type": "code",
   "execution_count": 18,
   "metadata": {},
   "outputs": [
    {
     "ename": "KeyError",
     "evalue": "'Jenny'",
     "output_type": "error",
     "traceback": [
      "\u001b[1;31m---------------------------------------------------------------------------\u001b[0m",
      "\u001b[1;31mKeyError\u001b[0m                                  Traceback (most recent call last)",
      "\u001b[1;32m<ipython-input-18-df302b7b6c93>\u001b[0m in \u001b[0;36m<module>\u001b[1;34m\u001b[0m\n\u001b[1;32m----> 1\u001b[1;33m \u001b[0mtel\u001b[0m\u001b[1;33m.\u001b[0m\u001b[0mlookup_number\u001b[0m\u001b[1;33m(\u001b[0m\u001b[1;34m'Jenny'\u001b[0m\u001b[1;33m)\u001b[0m\u001b[1;33m\u001b[0m\u001b[1;33m\u001b[0m\u001b[0m\n\u001b[0m",
      "\u001b[1;32m<ipython-input-15-d5953612be29>\u001b[0m in \u001b[0;36mlookup_number\u001b[1;34m(self, name)\u001b[0m\n\u001b[0;32m     10\u001b[0m \u001b[1;33m\u001b[0m\u001b[0m\n\u001b[0;32m     11\u001b[0m     \u001b[1;32mdef\u001b[0m \u001b[0mlookup_number\u001b[0m\u001b[1;33m(\u001b[0m\u001b[0mself\u001b[0m\u001b[1;33m,\u001b[0m \u001b[0mname\u001b[0m\u001b[1;33m)\u001b[0m\u001b[1;33m:\u001b[0m\u001b[1;33m\u001b[0m\u001b[1;33m\u001b[0m\u001b[0m\n\u001b[1;32m---> 12\u001b[1;33m         \u001b[1;32mreturn\u001b[0m \u001b[0mself\u001b[0m\u001b[1;33m.\u001b[0m\u001b[0m__directory\u001b[0m\u001b[1;33m[\u001b[0m\u001b[0mname\u001b[0m\u001b[1;33m]\u001b[0m\u001b[1;33m\u001b[0m\u001b[1;33m\u001b[0m\u001b[0m\n\u001b[0m",
      "\u001b[1;31mKeyError\u001b[0m: 'Jenny'"
     ]
    }
   ],
   "source": [
    "tel.lookup_number('Jenny')"
   ]
  },
  {
   "cell_type": "markdown",
   "metadata": {},
   "source": [
    "Create a subclass of your first directory class. It should override `remove_number` and `lookup_number` so that they don't raise exceptions."
   ]
  },
  {
   "cell_type": "code",
   "execution_count": 24,
   "metadata": {},
   "outputs": [],
   "source": [
    "class SafeDirectory(TelephoneDirectory):\n",
    "    def __init__(self):\n",
    "        super().__init__()\n",
    "        \n",
    "    def remove_number(self, name):\n",
    "        try:\n",
    "            super().remove_number(name)\n",
    "        except KeyError:\n",
    "            pass\n",
    "    \n",
    "    def lookup_number(self, name):\n",
    "        try:\n",
    "            return super().lookup_number(name)\n",
    "        except KeyError:\n",
    "            return None\n"
   ]
  },
  {
   "cell_type": "code",
   "execution_count": 25,
   "metadata": {},
   "outputs": [
    {
     "name": "stdout",
     "output_type": "stream",
     "text": [
      "rohit 12345 added to telephone directory\n",
      "abc 2346 added to telephone directory\n",
      "xyz 1234521 added to telephone directory\n",
      "abc removed from telephone directory\n"
     ]
    }
   ],
   "source": [
    "tel = SafeDirectory()\n",
    "tel.add_number('rohit', 12345)\n",
    "tel.add_number('abc', 2346)\n",
    "tel.add_number('xyz', 1234521)\n",
    "tel.remove_number('abc')"
   ]
  },
  {
   "cell_type": "code",
   "execution_count": 26,
   "metadata": {},
   "outputs": [],
   "source": [
    "tel.remove_number('abc')"
   ]
  },
  {
   "cell_type": "code",
   "execution_count": 27,
   "metadata": {},
   "outputs": [],
   "source": [
    "tel.lookup_number('Jenny')"
   ]
  },
  {
   "cell_type": "code",
   "execution_count": null,
   "metadata": {},
   "outputs": [],
   "source": []
  }
 ],
 "metadata": {
  "kernelspec": {
   "display_name": "Python 3",
   "language": "python",
   "name": "python3"
  },
  "language_info": {
   "codemirror_mode": {
    "name": "ipython",
    "version": 3
   },
   "file_extension": ".py",
   "mimetype": "text/x-python",
   "name": "python",
   "nbconvert_exporter": "python",
   "pygments_lexer": "ipython3",
   "version": "3.7.3"
  }
 },
 "nbformat": 4,
 "nbformat_minor": 2
}
