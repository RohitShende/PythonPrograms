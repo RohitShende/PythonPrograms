{
 "cells": [
  {
   "cell_type": "markdown",
   "metadata": {},
   "source": [
    "# Unit testing lab\n",
    "\n",
    "### Testing cards\n",
    "\n",
    "Using the `cards.py` module as our 'unit under test', create a `unittest.TestCase` with tests check that\n",
    "\n",
    "- a new deck has 52 cards\n",
    "- a new deck does not repeat any cards\n",
    "- two cards with the same rank & suit compare as the same\n",
    "- adding invalid ranks/suits raises an appropriate exception"
   ]
  },
  {
   "cell_type": "code",
   "execution_count": 1,
   "metadata": {},
   "outputs": [
    {
     "name": "stdout",
     "output_type": "stream",
     "text": [
      "C:\\Rohit\\Rohit Projects\\PythonPrograms\\Python Advance Concepts\\Python-Testing\\src\\data\\test-examples\n"
     ]
    }
   ],
   "source": [
    "cd data/test-examples"
   ]
  },
  {
   "cell_type": "code",
   "execution_count": 11,
   "metadata": {},
   "outputs": [
    {
     "name": "stdout",
     "output_type": "stream",
     "text": [
      "Overwriting rohit_test.py\n"
     ]
    }
   ],
   "source": [
    "%%file rohit_test.py \n",
    "\n",
    "import unittest\n",
    "from cards import Deck\n",
    "\n",
    "class MyTest(unittest.TestCase):\n",
    "    \n",
    "    def setUp(self):\n",
    "        self.deck = Deck()\n",
    "        \n",
    "    def test_52_cards_in_new_deck(self):\n",
    "        self.assertEqual(len(self.deck), 52)\n"
   ]
  },
  {
   "cell_type": "code",
   "execution_count": 12,
   "metadata": {},
   "outputs": [
    {
     "name": "stderr",
     "output_type": "stream",
     "text": [
      ".\n",
      "----------------------------------------------------------------------\n",
      "Ran 1 test in 0.000s\n",
      "\n",
      "OK\n"
     ]
    }
   ],
   "source": [
    "!python -m unittest rohit_test.py"
   ]
  },
  {
   "cell_type": "code",
   "execution_count": null,
   "metadata": {},
   "outputs": [],
   "source": []
  },
  {
   "cell_type": "markdown",
   "metadata": {},
   "source": [
    "### Evaulating coverage\n",
    "\n",
    "Use the coverage module to see which lines are missing test coverage. Add tests that exercise these lines in cards.py"
   ]
  },
  {
   "cell_type": "code",
   "execution_count": null,
   "metadata": {},
   "outputs": [],
   "source": []
  },
  {
   "cell_type": "code",
   "execution_count": null,
   "metadata": {},
   "outputs": [],
   "source": []
  },
  {
   "cell_type": "code",
   "execution_count": null,
   "metadata": {},
   "outputs": [],
   "source": []
  }
 ],
 "metadata": {
  "kernelspec": {
   "display_name": "Python 3",
   "language": "python",
   "name": "python3"
  },
  "language_info": {
   "codemirror_mode": {
    "name": "ipython",
    "version": 3
   },
   "file_extension": ".py",
   "mimetype": "text/x-python",
   "name": "python",
   "nbconvert_exporter": "python",
   "pygments_lexer": "ipython3",
   "version": "3.7.3"
  }
 },
 "nbformat": 4,
 "nbformat_minor": 2
}
