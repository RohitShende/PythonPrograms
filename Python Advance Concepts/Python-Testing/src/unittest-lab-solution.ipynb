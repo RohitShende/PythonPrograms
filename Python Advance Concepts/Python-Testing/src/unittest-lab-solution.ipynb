{
 "cells": [
  {
   "cell_type": "markdown",
   "metadata": {},
   "source": [
    "# Unit testing lab\n",
    "\n",
    "### Testing cards\n",
    "\n",
    "Using the `cards.py` module as our 'unit under test', create a `unittest.TestCase` with tests check that\n",
    "\n",
    "- a new deck has 52 cards\n",
    "- a new deck does not repeat any cards\n",
    "- two cards with the same rank & suit compare as the same\n",
    "- adding invalid ranks/suits raises an appropriate exception"
   ]
  },
  {
   "cell_type": "code",
   "execution_count": 34,
   "metadata": {},
   "outputs": [
    {
     "name": "stdout",
     "output_type": "stream",
     "text": [
      "Overwriting data/test-examples/card-test-lab.py\n"
     ]
    }
   ],
   "source": [
    "%%file data/test-examples/card-test-lab.py\n",
    "import unittest\n",
    "\n",
    "from cards import Hand, Card, Deck\n",
    "\n",
    "class TestDeck(unittest.TestCase):\n",
    "    \n",
    "    def setUp(self):\n",
    "        self.deck = Deck()\n",
    "        \n",
    "    def test52(self):\n",
    "        self.assertEqual(len(self.deck), 52)\n",
    "        \n",
    "    def test_no_dupes(self):\n",
    "        seen = set()\n",
    "        for card in self.deck:\n",
    "            self.assertNotIn(card, seen)\n",
    "            seen.add(card)\n",
    "            \n",
    "class TestCards(unittest.TestCase):\n",
    "    \n",
    "    def test_same_card(self):\n",
    "        c0 = Card(rank='A', suit='club')\n",
    "        c1 = Card(rank='A', suit='club')\n",
    "        self.assertEqual(c0, c1)\n",
    "        \n",
    "    def test_invalid_rank(self):\n",
    "        with self.assertRaises(ValueError):\n",
    "            Card(rank='B', suit='club')\n",
    "            \n",
    "    def test_invalid_suit(self):\n",
    "        with self.assertRaises(ValueError):\n",
    "            Card(rank='A', suit='clubs')\n",
    "            \n",
    "\n",
    "class TestHand(unittest.TestCase):\n",
    "    \n",
    "    def test_simple(self):\n",
    "        hand = Hand([Card(rank='5', suit='spade')])\n",
    "        self.assertEqual(hand.score(), 5)\n",
    "        \n",
    "    def test_soft_17(self):\n",
    "        hand = Hand([\n",
    "            Card(rank='A', suit='spade'),\n",
    "            Card(rank='6', suit='spade'),\n",
    "        ])\n",
    "        self.assertEqual(hand.score(), 17)\n",
    "            \n",
    "    def test_hard_17(self):\n",
    "        hand = Hand([\n",
    "            Card(rank='A', suit='spade'),\n",
    "            Card(rank='K', suit='spade'),\n",
    "            Card(rank='6', suit='spade'),\n",
    "        ])\n",
    "        self.assertEqual(hand.score(), 17)\n",
    "        \n",
    "    def test_really_hard_14(self):\n",
    "        hand = Hand([\n",
    "            Card(rank='A', suit='spade'),\n",
    "            Card(rank='A', suit='club'),\n",
    "            Card(rank='A', suit='heart'),\n",
    "            Card(rank='A', suit='diamond'),\n",
    "            Card(rank='K', suit='spade')\n",
    "        ])\n",
    "        self.assertEqual(hand.score(), 14)\n",
    "        \n"
   ]
  },
  {
   "cell_type": "code",
   "execution_count": 35,
   "metadata": {},
   "outputs": [
    {
     "name": "stderr",
     "output_type": "stream",
     "text": [
      ".........\n",
      "----------------------------------------------------------------------\n",
      "Ran 9 tests in 0.001s\n",
      "\n",
      "OK\n"
     ]
    }
   ],
   "source": [
    "%%bash\n",
    "cd data/test-examples\n",
    "python -m unittest card-test-lab.py"
   ]
  },
  {
   "cell_type": "code",
   "execution_count": null,
   "metadata": {},
   "outputs": [],
   "source": []
  },
  {
   "cell_type": "markdown",
   "metadata": {},
   "source": [
    "### Evaulating coverage\n",
    "\n",
    "Use the coverage module to see which lines are missing test coverage. Add tests that exercise these lines in cards.py"
   ]
  },
  {
   "cell_type": "code",
   "execution_count": 36,
   "metadata": {},
   "outputs": [
    {
     "name": "stdout",
     "output_type": "stream",
     "text": [
      "Name               Stmts   Miss  Cover   Missing\n",
      "------------------------------------------------\n",
      "card-test-lab.py      36      0   100%\n",
      "cards.py              52     10    81%   27, 42, 51, 54, 57, 75, 78-81\n",
      "------------------------------------------------\n",
      "TOTAL                 88     10    89%\n"
     ]
    },
    {
     "name": "stderr",
     "output_type": "stream",
     "text": [
      ".........\n",
      "----------------------------------------------------------------------\n",
      "Ran 9 tests in 0.001s\n",
      "\n",
      "OK\n"
     ]
    }
   ],
   "source": [
    "%%bash\n",
    "cd data/test-examples\n",
    "coverage run -m unittest card-test-lab.py\n",
    "coverage report -m"
   ]
  },
  {
   "cell_type": "code",
   "execution_count": 37,
   "metadata": {},
   "outputs": [
    {
     "name": "stdout",
     "output_type": "stream",
     "text": [
      "Overwriting data/test-examples/card-test-lab2.py\n"
     ]
    }
   ],
   "source": [
    "%%file data/test-examples/card-test-lab2.py\n",
    "import unittest\n",
    "import random\n",
    "\n",
    "from cards import Hand, Card, Deck\n",
    "\n",
    "class TestDeck(unittest.TestCase):\n",
    "    \n",
    "    def setUp(self):\n",
    "        self.deck = Deck()\n",
    "        \n",
    "    def test52(self):\n",
    "        self.assertEqual(len(self.deck), 52)\n",
    "        \n",
    "    def test_no_dupes(self):\n",
    "        seen = set()\n",
    "        for card in self.deck:\n",
    "            self.assertNotIn(card, seen)\n",
    "            seen.add(card)\n",
    "            \n",
    "    def test_repr_string(self):\n",
    "        self.assertIsInstance(repr(self.deck), str)\n",
    "        \n",
    "    def test_shuffle(self):\n",
    "        deck2 = Deck()\n",
    "        random.shuffle(deck2)\n",
    "        self.assertNotEqual(self.deck.cards, deck2.cards)\n",
    "        \n",
    "    def test_deal_5(self):\n",
    "        hand = self.deck.deal(5)\n",
    "        self.assertEqual(len(hand), 5)\n",
    "        \n",
    "    def test_draw(self):\n",
    "        hand = self.deck.deal(5)\n",
    "        self.deck.draw(hand)\n",
    "        self.assertEqual(len(hand), 6)\n",
    "            \n",
    "class TestCards(unittest.TestCase):\n",
    "    \n",
    "    def test_repr_string(self):\n",
    "        self.assertIsInstance(repr(Card(rank='A', suit='club')), str)\n",
    "            \n",
    "    def test_same_card(self):\n",
    "        c0 = Card(rank='A', suit='club')\n",
    "        c1 = Card(rank='A', suit='club')\n",
    "        self.assertEqual(c0, c1)\n",
    "        \n",
    "    def test_invalid_rank(self):\n",
    "        with self.assertRaises(ValueError):\n",
    "            Card(rank='B', suit='club')\n",
    "            \n",
    "    def test_invalid_suit(self):\n",
    "        with self.assertRaises(ValueError):\n",
    "            Card(rank='A', suit='clubs')\n",
    "            \n",
    "\n",
    "class TestHand(unittest.TestCase):\n",
    "    \n",
    "    def test_simple(self):\n",
    "        hand = Hand([Card(rank='5', suit='spade')])\n",
    "        self.assertEqual(hand.score(), 5)\n",
    "        \n",
    "    def test_soft_17(self):\n",
    "        hand = Hand([\n",
    "            Card(rank='A', suit='spade'),\n",
    "            Card(rank='6', suit='spade'),\n",
    "        ])\n",
    "        self.assertEqual(hand.score(), 17)\n",
    "            \n",
    "    def test_hard_17(self):\n",
    "        hand = Hand([\n",
    "            Card(rank='A', suit='spade'),\n",
    "            Card(rank='K', suit='spade'),\n",
    "            Card(rank='6', suit='spade'),\n",
    "        ])\n",
    "        self.assertEqual(hand.score(), 17)\n",
    "        \n",
    "    def test_really_hard_14(self):\n",
    "        hand = Hand([\n",
    "            Card(rank='A', suit='spade'),\n",
    "            Card(rank='A', suit='club'),\n",
    "            Card(rank='A', suit='heart'),\n",
    "            Card(rank='A', suit='diamond'),\n",
    "            Card(rank='K', suit='spade')\n",
    "        ])\n",
    "        self.assertEqual(hand.score(), 14)\n",
    "        \n",
    "    def test_bust(self):\n",
    "        hand = Hand([\n",
    "            Card(rank='K', suit='spade'),\n",
    "            Card(rank='Q', suit='spade'),\n",
    "            Card(rank='J', suit='spade'),\n",
    "            Card(rank='A', suit='spade'),\n",
    "        ])\n",
    "        hand.is_bust()\n",
    "        "
   ]
  },
  {
   "cell_type": "code",
   "execution_count": 40,
   "metadata": {},
   "outputs": [
    {
     "name": "stdout",
     "output_type": "stream",
     "text": [
      "Name                Stmts   Miss  Cover   Missing\n",
      "-------------------------------------------------\n",
      "card-test-lab2.py      55      0   100%\n",
      "cards.py               52      0   100%\n",
      "-------------------------------------------------\n",
      "TOTAL                 107      0   100%\n"
     ]
    },
    {
     "name": "stderr",
     "output_type": "stream",
     "text": [
      "...............\n",
      "----------------------------------------------------------------------\n",
      "Ran 15 tests in 0.002s\n",
      "\n",
      "OK\n"
     ]
    }
   ],
   "source": [
    "%%bash\n",
    "cd data/test-examples\n",
    "coverage erase\n",
    "coverage run -m unittest card-test-lab2.py\n",
    "coverage report -m"
   ]
  },
  {
   "cell_type": "code",
   "execution_count": 39,
   "metadata": {},
   "outputs": [
    {
     "name": "stdout",
     "output_type": "stream",
     "text": [
      "Name                Stmts   Miss Branch BrPart  Cover   Missing\n",
      "---------------------------------------------------------------\n",
      "card-test-lab2.py      55      0      2      0   100%\n",
      "cards.py               52      0     20      1    99%   79->81\n",
      "---------------------------------------------------------------\n",
      "TOTAL                 107      0     22      1    99%\n"
     ]
    },
    {
     "name": "stderr",
     "output_type": "stream",
     "text": [
      "...............\n",
      "----------------------------------------------------------------------\n",
      "Ran 15 tests in 0.003s\n",
      "\n",
      "OK\n"
     ]
    }
   ],
   "source": [
    "%%bash\n",
    "cd data/test-examples\n",
    "coverage erase\n",
    "coverage run --branch -m unittest card-test-lab2.py\n",
    "coverage report -m"
   ]
  },
  {
   "cell_type": "code",
   "execution_count": 9,
   "metadata": {},
   "outputs": [],
   "source": [
    "y = 11\n",
    "x = 5 if y < 10 else 20"
   ]
  },
  {
   "cell_type": "code",
   "execution_count": 10,
   "metadata": {},
   "outputs": [
    {
     "data": {
      "text/plain": [
       "20"
      ]
     },
     "execution_count": 10,
     "metadata": {},
     "output_type": "execute_result"
    }
   ],
   "source": [
    "x\n"
   ]
  },
  {
   "cell_type": "code",
   "execution_count": 11,
   "metadata": {},
   "outputs": [
    {
     "data": {
      "text/plain": [
       "False"
      ]
     },
     "execution_count": 11,
     "metadata": {},
     "output_type": "execute_result"
    }
   ],
   "source": [
    "False and call_some_function()"
   ]
  },
  {
   "cell_type": "code",
   "execution_count": null,
   "metadata": {},
   "outputs": [],
   "source": []
  }
 ],
 "metadata": {
  "kernelspec": {
   "display_name": "Python 3",
   "language": "python",
   "name": "python3"
  },
  "language_info": {
   "codemirror_mode": {
    "name": "ipython",
    "version": 3
   },
   "file_extension": ".py",
   "mimetype": "text/x-python",
   "name": "python",
   "nbconvert_exporter": "python",
   "pygments_lexer": "ipython3",
   "version": "3.7.3"
  }
 },
 "nbformat": 4,
 "nbformat_minor": 2
}
