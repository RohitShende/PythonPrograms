{
 "cells": [
  {
   "cell_type": "markdown",
   "metadata": {},
   "source": [
    "# Jupyter, briefly\n",
    "\n",
    "- Web-based interface to several different programming languages, but started with Python\n",
    "- The Jupyter **server** is what started when you ran `jupyter notebook`\n",
    "- When you open (or create) a Notebook (`.ipynb`) file in Jupyter, the server starts a **kernel** (a Python interpreter dedicated to that notebook)\n",
    "- Notebooks are organized into **cells**, which may be either code (Python) or Markdown cells.\n",
    "- When you execute a Python cell, it is sent to the kernel, executed, and the notebook then shows the output of running the cell"
   ]
  },
  {
   "cell_type": "markdown",
   "metadata": {},
   "source": [
    "## Why Jupyter\n",
    "\n",
    "- Training (lets you walk through examples, change things, and keep a record of what you did)\n",
    "- Exploration of data / APIs where it's good to keep a record of what you did (data scientists love their notebooks!)\n",
    "- Prototyping an algorithm to be \"productionalized\" later"
   ]
  },
  {
   "cell_type": "markdown",
   "metadata": {},
   "source": [
    "## Why not Jupyter\n",
    "\n",
    "- Running in production\n",
    "- Not great with source control (notebooks are stored as JSON, which does not diff well)"
   ]
  },
  {
   "cell_type": "markdown",
   "metadata": {},
   "source": [
    "## \"Restart and run all,\" or it didn't happen\n",
    "\n",
    "- You can run cells out of order as you're exploring. It's a good idea to run everything top to bottom when you're done to make sure you didn't delete any steps"
   ]
  },
  {
   "cell_type": "markdown",
   "metadata": {},
   "source": [
    "## Getting help\n",
    "\n",
    "#### See possible completions with `<TAB>`\n",
    "\n",
    "```ipython\n",
    "In [0]: from email import <TAB>\n",
    "```"
   ]
  },
  {
   "cell_type": "code",
   "execution_count": 1,
   "metadata": {},
   "outputs": [],
   "source": [
    "from email.mime.multipart import MIMEMultipart"
   ]
  },
  {
   "cell_type": "code",
   "execution_count": null,
   "metadata": {},
   "outputs": [],
   "source": [
    "MIMEMultipart.as_bytes()"
   ]
  },
  {
   "cell_type": "markdown",
   "metadata": {},
   "source": [
    "#### See function arguments by holding down shift and hitting `<TAB>`:\n",
    "    \n",
    "- one time: pops up simplified help\n",
    "- two times: expands simplified help\n",
    "- four times: brings up full help for function you're calling\n"
   ]
  },
  {
   "cell_type": "code",
   "execution_count": 3,
   "metadata": {},
   "outputs": [],
   "source": [
    "import os"
   ]
  },
  {
   "cell_type": "code",
   "execution_count": null,
   "metadata": {},
   "outputs": [],
   "source": [
    "os.open()"
   ]
  },
  {
   "cell_type": "code",
   "execution_count": 4,
   "metadata": {},
   "outputs": [],
   "source": [
    "os?"
   ]
  },
  {
   "cell_type": "markdown",
   "metadata": {},
   "source": [
    "\n",
    "#### Bring up help on an object\n",
    "\n",
    "To bring up help:\n",
    "\n",
    "```ipython\n",
    "In [0]: my_function?\n",
    "```\n",
    "\n",
    "To bring up help with source code if available:\n",
    "\n",
    "```ipython\n",
    "In [0]: my_function??\n",
    "```"
   ]
  },
  {
   "cell_type": "code",
   "execution_count": 5,
   "metadata": {},
   "outputs": [],
   "source": [
    "def fun():\n",
    "    'Docstring'\n",
    "    print('This is my function')"
   ]
  },
  {
   "cell_type": "code",
   "execution_count": 6,
   "metadata": {},
   "outputs": [
    {
     "name": "stdout",
     "output_type": "stream",
     "text": [
      "Help on function fun in module __main__:\n",
      "\n",
      "fun()\n",
      "    Docstring\n",
      "\n"
     ]
    }
   ],
   "source": [
    "help(fun)"
   ]
  },
  {
   "cell_type": "code",
   "execution_count": 7,
   "metadata": {},
   "outputs": [],
   "source": [
    "fun?"
   ]
  },
  {
   "cell_type": "code",
   "execution_count": 8,
   "metadata": {},
   "outputs": [],
   "source": [
    "fun??"
   ]
  },
  {
   "cell_type": "code",
   "execution_count": null,
   "metadata": {},
   "outputs": [],
   "source": [
    "import heapq"
   ]
  },
  {
   "cell_type": "markdown",
   "metadata": {},
   "source": [
    "#### To get a list of all the %magic commands\n",
    "\n",
    "```ipython\n",
    "In [0]: %magic\n",
    "```"
   ]
  },
  {
   "cell_type": "code",
   "execution_count": 9,
   "metadata": {},
   "outputs": [],
   "source": [
    "%magic"
   ]
  },
  {
   "cell_type": "code",
   "execution_count": null,
   "metadata": {},
   "outputs": [],
   "source": [
    "magic"
   ]
  },
  {
   "cell_type": "markdown",
   "metadata": {},
   "source": [
    "# Interacting with the shell"
   ]
  },
  {
   "cell_type": "code",
   "execution_count": 10,
   "metadata": {},
   "outputs": [
    {
     "name": "stdout",
     "output_type": "stream",
     "text": [
      "['rick446']\n"
     ]
    }
   ],
   "source": [
    "x = !whoami\n",
    "print(x)"
   ]
  },
  {
   "cell_type": "code",
   "execution_count": 11,
   "metadata": {},
   "outputs": [
    {
     "name": "stdout",
     "output_type": "stream",
     "text": [
      "-rw-r--r--  1 rick446  staff     2072 Mar  7  2019 Py2-3.ipynb\r\n",
      "-rw-r--r--  1 rick446  staff     2169 Jul 24 13:00 Setup-Anaconda.ipynb\r\n",
      "-rw-r--r--  1 rick446  staff     5868 Jul 24 13:00 Setup-Pip.ipynb\r\n",
      "-rw-r--r--  1 rick446  staff     9404 Mar  7  2019 advanced-data-types-lab-solution.ipynb\r\n",
      "-rw-r--r--  1 rick446  staff     2954 Mar  7  2019 advanced-data-types-lab.ipynb\r\n",
      "-rw-r--r--@ 1 rick446  staff    42585 Mar  6  2019 advanced-data-types.ipynb\r\n",
      "-rw-r--r--  1 rick446  staff     4348 Mar 20 14:02 advanced-generators-lab-solution.ipynb\r\n",
      "-rw-r--r--  1 rick446  staff     1848 Mar 13  2019 advanced-generators-lab.ipynb\r\n",
      "-rw-r--r--  1 rick446  staff    15266 Mar 20 13:20 advanced-generators.ipynb\r\n",
      "-rw-r--r--  1 rick446  staff     6475 Mar 21 09:24 advanced-oop-lab-solution.ipynb\r\n",
      "-rw-r--r--  1 rick446  staff     1526 Mar 20 16:25 advanced-oop-lab.ipynb\r\n",
      "-rw-r--r--  1 rick446  staff    21111 Mar 20 16:03 advanced-oop.ipynb\r\n",
      "-rw-r--r--  1 rick446  staff     4822 Aug 19 10:49 advanced-python.ipynb\r\n",
      "-rw-r--r--  1 rick446  staff   145629 Jul 21 19:11 all-testing.ipynb\r\n",
      "-rw-r--r--  1 rick446  staff     7239 Mar 12  2019 ansible-modules-lab-solution.ipynb\r\n",
      "-rw-r--r--  1 rick446  staff     2862 Feb 22  2019 ansible-modules-lab.ipynb\r\n",
      "-rw-r--r--  1 rick446  staff     5363 Feb 22  2019 ansible-modules.ipynb\r\n",
      "-rw-r--r--  1 rick446  staff     8980 Mar 12  2019 ansible-overview-lab-solution.ipynb\r\n",
      "-rw-r--r--  1 rick446  staff     4045 Mar 12  2019 ansible-overview-lab.ipynb\r\n",
      "-rw-r--r--  1 rick446  staff    27988 Mar 12  2019 ansible-overview.ipynb\r\n",
      "-rw-r--r--  1 rick446  staff     3079 Mar 20 15:08 asyncio-lab-solution.ipynb\r\n",
      "-rw-r--r--  1 rick446  staff     1609 Mar 20 14:48 asyncio-lab.ipynb\r\n",
      "-rw-r--r--  1 rick446  staff    72567 Mar 20 15:09 asyncio.ipynb\r\n",
      "-rw-r--r--  1 rick446  staff    16814 Mar  6  2019 boto3-lab-solution.ipynb\r\n",
      "-rw-r--r--  1 rick446  staff     2658 Feb 22  2019 boto3-lab.ipynb\r\n",
      "-rw-r--r--  1 rick446  staff   240197 Feb 20  2019 boto3.ipynb\r\n",
      "-rw-r--r--  1 rick446  staff     2939 Mar 22 14:20 celery-lab-solution.ipynb\r\n",
      "-rw-r--r--  1 rick446  staff     1314 Feb 26  2019 celery-lab.ipynb\r\n",
      "-rw-r--r--@ 1 rick446  staff    26132 Aug 19 10:49 celery.ipynb\r\n",
      "-rw-r--r--  1 rick446  staff     2498 Jul  3 09:12 class-productionalizing-notebooks.ipynb\r\n",
      "-rw-r--r--  1 rick446  staff     4608 Aug 15 14:56 class-python-sysadmin.ipynb\r\n",
      "-rw-r--r--  1 rick446  staff     3058 Mar  5  2019 cli-lab-solution.ipynb\r\n",
      "-rw-r--r--  1 rick446  staff     1396 Feb 22  2019 cli-lab.ipynb\r\n",
      "-rw-r--r--  1 rick446  staff    14205 Feb 20  2019 cli.ipynb\r\n",
      "-rw-r--r--  1 rick446  staff     2681 Mar 22 16:09 closures-lab.ipynb\r\n",
      "-rw-r--r--@ 1 rick446  staff    21273 Mar 22 16:04 closures.ipynb\r\n",
      "-rw-r--r--  1 rick446  staff     2993 Mar  8  2019 context-lab-solution.ipynb\r\n",
      "-rw-r--r--  1 rick446  staff     1826 Mar  8  2019 context-lab.ipynb\r\n",
      "-rw-r--r--  1 rick446  staff     8594 Mar  8  2019 context.ipynb\r\n",
      "-rw-r--r--  1 rick446  staff     6421 Jul 24 13:00 core-syntax-lab-solution.ipynb\r\n",
      "-rw-r--r--  1 rick446  staff     2417 Aug 14 20:34 core-syntax-lab.ipynb\r\n",
      "-rw-r--r--  1 rick446  staff    85238 Aug 14 22:15 core-syntax.ipynb\r\n",
      "-rw-r--r--  1 rick446  staff    14536 Mar  4  2019 dates-lab-solution.ipynb\r\n",
      "-rw-r--r--  1 rick446  staff   313361 Feb 22  2019 dates-lab.ipynb\r\n",
      "-rw-r--r--  1 rick446  staff    30806 Feb 20  2019 dates.ipynb\r\n",
      "-rw-r--r--  1 rick446  staff     9930 Mar 21 15:54 dbapi-lab-solution.ipynb\r\n",
      "-rw-r--r--  1 rick446  staff     1293 Mar 13  2019 dbapi-lab.ipynb\r\n",
      "-rw-r--r--  1 rick446  staff    19628 Mar 21 15:54 dbapi.ipynb\r\n",
      "-rw-r--r--  1 rick446  staff     2434 Mar 22 15:15 dispy-lab-solution.ipynb\r\n",
      "-rw-r--r--  1 rick446  staff     2111 Mar 22 15:16 dispy-lab.ipynb\r\n",
      "-rw-r--r--  1 rick446  staff    24043 Mar 22 15:12 dispy.ipynb\r\n",
      "-rw-r--r--  1 rick446  staff     1065 Mar 13  2019 email-lab.ipynb\r\n",
      "-rw-r--r--  1 rick446  staff    12213 Mar 21 15:01 email.ipynb\r\n",
      "-rw-r--r--  1 rick446  staff     5810 Mar  5  2019 fabric-lab-solution.ipynb\r\n",
      "-rw-r--r--  1 rick446  staff     2286 Feb 22  2019 fabric-lab.ipynb\r\n",
      "-rw-r--r--  1 rick446  staff    54205 Feb 22  2019 fabric.ipynb\r\n",
      "-rw-r--r--  1 rick446  staff    48805 Mar 22 10:51 flask-api-lab-solution.ipynb\r\n",
      "-rw-r--r--  1 rick446  staff     1109 Mar 22 10:04 flask-api-lab.ipynb\r\n",
      "-rw-r--r--  1 rick446  staff    38178 Mar 22 10:00 flask-api.ipynb\r\n",
      "-rw-r--r--  1 rick446  staff    14615 Mar 22 13:33 flask-pymongo-lab-solution.ipynb\r\n",
      "-rw-r--r--  1 rick446  staff      930 Mar 22 11:54 flask-pymongo-lab.ipynb\r\n",
      "-rw-r--r--  1 rick446  staff     9345 Mar 22 11:52 flask-pymongo.ipynb\r\n",
      "-rw-r--r--  1 rick446  staff    13590 Mar 22 13:25 flask-sqlalchemy-lab-solution.ipynb\r\n",
      "-rw-r--r--  1 rick446  staff     1025 Mar 22 11:53 flask-sqlalchemy-lab.ipynb\r\n",
      "-rw-r--r--  1 rick446  staff    10135 Mar 22 11:46 flask-sqlalchemy.ipynb\r\n",
      "-rw-r--r--  1 rick446  staff     7304 Mar 22 11:35 flask-ui-lab-solution.ipynb\r\n",
      "-rw-r--r--  1 rick446  staff      766 Mar 22 11:06 flask-ui-lab.ipynb\r\n",
      "-rw-r--r--  1 rick446  staff    14873 Mar 22 11:06 flask-ui.ipynb\r\n",
      "-rw-r--r--  1 rick446  staff     8572 Mar  7  2019 functional-lab-solution.ipynb\r\n",
      "-rw-r--r--  1 rick446  staff     2317 Feb 23  2019 functional-lab.ipynb\r\n",
      "-rw-r--r--@ 1 rick446  staff    28517 Mar 22 15:43 functional.ipynb\r\n",
      "-rw-r--r--  1 rick446  staff    41605 Jul  3 09:10 git-workflow.ipynb\r\n",
      "-rw-r--r--  1 rick446  staff     3854 Feb 19  2019 github-lab.ipynb\r\n",
      "-rw-r--r--  1 rick446  staff    23033 Mar 29 11:30 hackathon-intro.ipynb\r\n",
      "-rw-r--r--  1 rick446  staff     3976 Aug 19 10:47 intermediate-python.ipynb\r\n",
      "-rw-r--r--@ 1 rick446  staff     2339 Sep 16 09:02 intro-python.ipynb\r\n",
      "-rw-r--r--  1 rick446  staff     4356 Mar 20 13:02 iteration-lab-solution.ipynb\r\n",
      "-rw-r--r--  1 rick446  staff     2044 Mar 20 12:00 iteration-lab.ipynb\r\n",
      "-rw-r--r--  1 rick446  staff    23254 Mar 20 12:00 iteration.ipynb\r\n",
      "-rw-r--r--  1 rick446  staff     4517 Mar  4  2019 jinja2-lab-solution.ipynb\r\n",
      "-rw-r--r--  1 rick446  staff     4517 Feb 22  2019 jinja2-lab.ipynb\r\n",
      "-rw-r--r--  1 rick446  staff    28214 Aug 10 11:04 jinja2.ipynb\r\n",
      "-rw-r--r--@ 1 rick446  staff     6246 Sep 16 09:29 jupyter.ipynb\r\n",
      "-rw-r--r--  1 rick446  staff   103754 Jul 24 13:00 linting.ipynb\r\n",
      "-rw-r--r--  1 rick446  staff     5635 Mar  4  2019 logging-lab-solution.ipynb\r\n",
      "-rw-r--r--  1 rick446  staff     1428 Feb  6  2019 logging-lab.ipynb\r\n",
      "-rw-r--r--@ 1 rick446  staff    15406 Mar  1  2019 logging.ipynb\r\n",
      "-rw-r--r--  1 rick446  staff     6288 Feb 26  2019 macys-project.ipynb\r\n",
      "-rw-r--r--  1 rick446  staff     3678 Apr 25 10:32 ml-hackathon.ipynb\r\n",
      "-rw-r--r--  1 rick446  staff    17211 Feb 26  2019 ml-productionalization-workflow.ipynb\r\n",
      "-rw-r--r--  1 rick446  staff    33889 Jul 23 13:05 mock.ipynb\r\n",
      "-rw-r--r--@ 1 rick446  staff     4248 Aug 16 18:47 modules-lab-solution.ipynb\r\n",
      "-rw-r--r--@ 1 rick446  staff     1800 Aug 16 18:47 modules-lab.ipynb\r\n",
      "-rw-r--r--  1 rick446  staff    24538 Aug 15 12:19 modules.ipynb\r\n",
      "-rw-r--r--  1 rick446  staff     5855 Mar  8  2019 multithreading-multiprocessing-lab-solution.ipynb\r\n",
      "-rw-r--r--  1 rick446  staff     4295 Mar  8  2019 multithreading-multiprocessing-lab.ipynb\r\n",
      "-rw-r--r--  1 rick446  staff    19984 Mar  8  2019 multithreading-multiprocessing.ipynb\r\n",
      "-rw-r--r--  1 rick446  staff     6120 Feb 26  2019 numpy-lab.ipynb\r\n",
      "-rw-r--r--  1 rick446  staff    51869 Feb 26  2019 numpy.ipynb\r\n",
      "-rw-r--r--@ 1 rick446  staff     4437 Aug 19 10:45 nutanix-intermediate-python.ipynb\r\n",
      "-rw-r--r--  1 rick446  staff     6053 Mar  8  2019 oop-decorators-lab-solution.ipynb\r\n",
      "-rw-r--r--  1 rick446  staff     1762 Feb 23  2019 oop-decorators-lab.ipynb\r\n",
      "-rw-r--r--@ 1 rick446  staff    31915 Sep  4 06:42 oop-decorators.ipynb\r\n",
      "-rw-r--r--@ 1 rick446  staff     7559 Aug 16 18:47 oop-inheritance-lab-solution.ipynb\r\n",
      "-rw-r--r--@ 1 rick446  staff     1495 Aug 16 18:47 oop-inheritance-lab.ipynb\r\n",
      "-rw-r--r--@ 1 rick446  staff    14123 Aug 16 18:47 oop-inheritance.ipynb\r\n",
      "-rw-r--r--@ 1 rick446  staff     9713 Aug 16 18:47 oop-intro-lab-solution.ipynb\r\n",
      "-rw-r--r--@ 1 rick446  staff     2698 Aug 16 18:47 oop-intro-lab.ipynb\r\n",
      "-rw-r--r--  1 rick446  staff    43929 Mar  5  2019 oop-intro-ml.ipynb\r\n",
      "-rw-r--r--@ 1 rick446  staff    19175 Aug 16 18:47 oop-intro.ipynb\r\n",
      "-rw-r--r--  1 rick446  staff     8506 Mar  7  2019 oop-magic-lab-solution.ipynb\r\n",
      "-rw-r--r--  1 rick446  staff     3672 Mar  7  2019 oop-magic-lab.ipynb\r\n",
      "-rw-r--r--@ 1 rick446  staff    20472 Jul 21 18:08 oop-magic.ipynb\r\n",
      "-rw-r--r--  1 rick446  staff     2912 Jul 24 13:00 packaging-lab.ipynb\r\n",
      "-rw-r--r--  1 rick446  staff   110566 Jul 24 13:00 packaging.ipynb\r\n",
      "-rw-r--r--  1 rick446  staff    19434 Mar 29 10:25 pandas-intro-lab-solution.ipynb\r\n",
      "-rw-r--r--  1 rick446  staff     3189 Mar 18 11:04 pandas-intro-lab.ipynb\r\n",
      "-rw-r--r--  1 rick446  staff   169198 Mar 18 11:04 pandas-intro.ipynb\r\n",
      "-rw-r--r--  1 rick446  staff     6030 Mar 18 11:03 pandas-lab.ipynb\r\n",
      "-rw-r--r--  1 rick446  staff    14727 Mar 29 10:48 pandas-munging-lab-solution.ipynb\r\n",
      "-rw-r--r--  1 rick446  staff     1865 Mar 18 11:04 pandas-munging-lab.ipynb\r\n",
      "-rw-r--r--  1 rick446  staff    47614 Mar 18 18:13 pandas-munging.ipynb\r\n",
      "-rw-r--r--  1 rick446  staff     2553 Mar 29 10:35 pandas-sklearn-lab-solution.ipynb\r\n",
      "-rw-r--r--  1 rick446  staff     2553 Mar 18 17:25 pandas-sklearn-lab.ipynb\r\n",
      "-rw-r--r--  1 rick446  staff    38223 Mar 29 10:55 pandas-sklearn.ipynb\r\n",
      "-rw-r--r--  1 rick446  staff  4532615 Mar 22 16:40 pandas.ipynb\r\n",
      "-rw-r--r--  1 rick446  staff     5223 Feb 26  2019 pdb-lab.ipynb\r\n",
      "-rw-r--r--@ 1 rick446  staff    30496 Mar  1  2019 pdb.ipynb\r\n",
      "-rw-r--r--  1 rick446  staff      555 Feb  5  2019 projects.ipynb\r\n",
      "-rw-r--r--  1 rick446  staff     5276 Mar 22 14:47 pycos-lab-solution.ipynb\r\n",
      "-rw-r--r--  1 rick446  staff     1249 Mar 14  2019 pycos-lab.ipynb\r\n",
      "-rw-r--r--  1 rick446  staff    20027 Mar 22 14:38 pycos.ipynb\r\n",
      "-rw-r--r--  1 rick446  staff     3980 Mar 13  2019 pymongo-lab-solution.ipynb\r\n",
      "-rw-r--r--  1 rick446  staff     2680 Mar 21 16:21 pymongo-lab.ipynb\r\n",
      "-rw-r--r--  1 rick446  staff    16135 Mar 21 16:20 pymongo.ipynb\r\n",
      "-rw-r--r--@ 1 rick446  staff     3884 Aug 16 18:47 python-basic-syntax-lab-solution.ipynb\r\n",
      "-rw-r--r--@ 1 rick446  staff     2378 Aug 16 18:47 python-basic-syntax-lab.ipynb\r\n",
      "-rw-r--r--@ 1 rick446  staff    50413 Aug 16 18:47 python-basic-syntax.ipynb\r\n",
      "-rw-r--r--@ 1 rick446  staff     6719 Aug 16 18:47 python-collections-lab-solution.ipynb\r\n",
      "-rw-r--r--@ 1 rick446  staff     3791 Aug 16 18:47 python-collections-lab.ipynb\r\n",
      "-rw-r--r--@ 1 rick446  staff    43236 Aug 16 18:47 python-collections.ipynb\r\n",
      "-rw-r--r--@ 1 rick446  staff    11290 Aug 16 18:47 python-exceptions-lab-solution.ipynb\r\n",
      "-rw-r--r--@ 1 rick446  staff     1907 Aug 16 18:47 python-exceptions-lab.ipynb\r\n",
      "-rw-r--r--@ 1 rick446  staff    18530 Aug 16 18:47 python-exceptions.ipynb\r\n",
      "-rw-r--r--@ 1 rick446  staff     7809 Aug 16 18:47 python-functions-lab-solution.ipynb\r\n",
      "-rw-r--r--@ 1 rick446  staff     2330 Aug 16 18:47 python-functions-lab.ipynb\r\n",
      "-rw-r--r--@ 1 rick446  staff    17664 Aug 16 18:47 python-functions.ipynb\r\n",
      "-rw-r--r--@ 1 rick446  staff    28472 Aug 16 18:47 python-modules.ipynb\r\n",
      "-rw-r--r--@ 1 rick446  staff     4428 Aug 16 18:47 python-string-lab-solution.ipynb\r\n",
      "-rw-r--r--@ 1 rick446  staff     2066 Aug 16 18:47 python-string-lab.ipynb\r\n",
      "-rw-r--r--@ 1 rick446  staff    30826 Aug 16 18:47 python-string.ipynb\r\n",
      "-rw-r--r--  1 rick446  staff    30257 Mar 12  2019 python-sysadmin-project-solution.ipynb\r\n",
      "-rw-r--r--  1 rick446  staff    12147 Feb 22  2019 python-sysadmin-project.ipynb\r\n",
      "-rw-r--r--  1 rick446  staff    19286 Jul 24 13:00 pythonic.ipynb\r\n",
      "-rw-r--r--  1 rick446  staff    75716 Feb 18  2019 recommendation-engine-2.ipynb\r\n",
      "-rw-r--r--  1 rick446  staff   103799 Feb 15  2019 recommendation-engine.ipynb\r\n",
      "-rw-r--r--  1 rick446  staff    11390 Mar 21 14:36 requests-lab-solution.ipynb\r\n",
      "-rw-r--r--  1 rick446  staff     1910 Mar 21 13:59 requests-lab.ipynb\r\n",
      "-rw-r--r--  1 rick446  staff    45575 Mar 21 13:56 requests.ipynb\r\n",
      "-rw-r--r--  1 rick446  staff     3470 Feb 26  2019 scipy-lab.ipynb\r\n",
      "-rw-r--r--  1 rick446  staff   530360 Feb 26  2019 scipy.ipynb\r\n",
      "-rw-r--r--  1 rick446  staff     1277 Mar 21 15:23 sgml-lab.ipynb\r\n",
      "-rw-r--r--  1 rick446  staff    41347 Mar 21 15:22 sgml.ipynb\r\n",
      "-rw-r--r--  1 rick446  staff     1731 Feb 20  2019 shell-scripts-lab.ipynb\r\n",
      "-rw-r--r--  1 rick446  staff   107116 Feb 22  2019 shell-scripts.ipynb\r\n",
      "-rw-r--r--  1 rick446  staff    11360 Mar 29 10:25 sklearn-validation-lab-solution.ipynb\r\n",
      "-rw-r--r--  1 rick446  staff     1690 Mar 18 18:17 sklearn-validation-lab.ipynb\r\n",
      "-rw-r--r--  1 rick446  staff    31028 Mar 18 18:18 sklearn-validation.ipynb\r\n",
      "-rw-r--r--  1 rick446  staff    49436 Feb 20  2019 snmp.ipynb\r\n",
      "-rw-r--r--  1 rick446  staff     5246 Mar 21 13:10 socket-lab-solution.ipynb\r\n",
      "-rw-r--r--  1 rick446  staff     1113 Feb 21  2019 socket-lab.ipynb\r\n",
      "-rw-r--r--  1 rick446  staff    15036 Mar 21 11:52 socket.ipynb\r\n",
      "-rw-r--r--  1 rick446  staff    22574 Mar  4  2019 structured-text-lab-solution.ipynb\r\n",
      "-rw-r--r--  1 rick446  staff     2604 Feb  6  2019 structured-text-lab.ipynb\r\n",
      "-rw-r--r--  1 rick446  staff   521497 Feb  6  2019 structured-text.ipynb\r\n",
      "-rw-r--r--  1 rick446  staff     2904 Sep  4 06:44 targeted-topics-python-oop.ipynb\r\n",
      "-rw-r--r--  1 rick446  staff     3185 Sep  4 06:44 targeted-topics-python-style-packaging.ipynb\r\n",
      "-rw-r--r--  1 rick446  staff     2925 Sep  4 06:44 targeted-topics-python-testing.ipynb\r\n",
      "-rw-r--r--  1 rick446  staff    15565 Jul 23 13:05 tdd-lab-solution.ipynb\r\n",
      "-rw-r--r--@ 1 rick446  staff     6140 Jul 23 13:05 tdd-lab.ipynb\r\n",
      "-rw-r--r--  1 rick446  staff     1176 Jul 23 13:05 tdd.ipynb\r\n",
      "-rw-r--r--  1 rick446  staff     5140 Jul 23 13:05 testing-types.ipynb\r\n",
      "-rw-r--r--@ 1 rick446  staff   130355 Jul 22 06:45 testing.ipynb\r\n",
      "-rw-r--r--  1 rick446  staff    81532 Mar  4  2019 text-processing-lab-solution.ipynb\r\n",
      "-rw-r--r--  1 rick446  staff     2293 Aug 15 15:02 text-processing-lab.ipynb\r\n",
      "-rw-r--r--  1 rick446  staff    42439 Aug 15 15:00 text-processing.ipynb\r\n",
      "-rw-r--r--  1 rick446  staff    41686 Jul 22 06:49 types-of-testing.ipynb\r\n",
      "-rw-r--r--  1 rick446  staff    12089 Jul 23 13:50 unittest-lab-solution.ipynb\r\n",
      "-rw-r--r--  1 rick446  staff     2006 Jul 23 13:05 unittest-lab.ipynb\r\n",
      "-rw-r--r--  1 rick446  staff    41710 Jul 23 13:05 unittest.ipynb\r\n",
      "-rw-r--r--  1 rick446  staff     1871 Mar 21 10:28 virtualenv-lab.ipynb\r\n",
      "-rw-r--r--  1 rick446  staff    73587 Jul 24 04:55 virtualenv.ipynb\r\n",
      "-rw-r--r--@ 1 rick446  staff     9304 Aug 16 18:47 why-python.ipynb\r\n",
      "-rw-r--r--  1 rick446  staff      950 Mar 21 15:12 wsgi-lab.ipynb\r\n",
      "-rw-r--r--  1 rick446  staff    10999 Mar 21 15:08 wsgi.ipynb\r\n"
     ]
    }
   ],
   "source": [
    "pattern = '*.ipynb'\n",
    "!ls -l {pattern}"
   ]
  },
  {
   "cell_type": "code",
   "execution_count": null,
   "metadata": {},
   "outputs": [],
   "source": [
    "pattern = '*.ipynb'\n",
    "filenames = !ls -l {pattern}"
   ]
  },
  {
   "cell_type": "code",
   "execution_count": null,
   "metadata": {},
   "outputs": [],
   "source": [
    "filenames"
   ]
  },
  {
   "cell_type": "code",
   "execution_count": 12,
   "metadata": {},
   "outputs": [
    {
     "name": "stdout",
     "output_type": "stream",
     "text": [
      "This is a little script\n",
      "Iteration 1\n",
      "Iteration 2\n",
      "Iteration 3\n"
     ]
    }
   ],
   "source": [
    "%%bash\n",
    "echo \"This is a little script\"\n",
    "for i in $(seq 3); do\n",
    "    echo \"Iteration\" $i\n",
    "done"
   ]
  },
  {
   "cell_type": "code",
   "execution_count": null,
   "metadata": {},
   "outputs": [],
   "source": []
  }
 ],
 "metadata": {
  "kernelspec": {
   "display_name": "Python 3",
   "language": "python",
   "name": "python3"
  },
  "language_info": {
   "codemirror_mode": {
    "name": "ipython",
    "version": 3
   },
   "file_extension": ".py",
   "mimetype": "text/x-python",
   "name": "python",
   "nbconvert_exporter": "python",
   "pygments_lexer": "ipython3",
   "version": "3.7.4"
  }
 },
 "nbformat": 4,
 "nbformat_minor": 2
}
