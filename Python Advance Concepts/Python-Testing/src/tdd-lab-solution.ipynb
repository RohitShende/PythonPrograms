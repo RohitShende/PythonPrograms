{
 "cells": [
  {
   "cell_type": "markdown",
   "metadata": {},
   "source": [
    "# Test-Driven Development Exercise\n",
    "\n",
    "Here, we'll use TDD to write the beginnings of a card game.\n",
    "\n",
    "To begin with, let's set up some requirements:\n",
    "\n",
    "- There is a `Card` class with a `rank` and `suit` attribute.\n",
    "    - `rank` attributes are strings, 1-2 characters long, from the set {'2' - '10', 'J', 'Q', 'K', 'A'}\n",
    "    - `suit` attributes are strings from the set {'spade', 'heart', 'club', 'diamond'}\n",
    "- There is a `Deck` class which creates a deck of 52 cards: one of each (rank, suit) combination\n",
    "- A `Deck` may `.deal(n)` a `Hand` of `n` cards"
   ]
  },
  {
   "cell_type": "markdown",
   "metadata": {},
   "source": [
    "Write a `TestCase` for creating cards. Be sure to test for (in-)valid rank and suit"
   ]
  },
  {
   "cell_type": "code",
   "execution_count": 1,
   "metadata": {},
   "outputs": [],
   "source": [
    "# normally we'd use unittest.main(), nosetests, or py.test to run our tests. In this case, we're going to \n",
    "# manually create our own test loader/runner\n",
    "import unittest\n",
    "\n",
    "def run_tests(*TestCases):\n",
    "    runner = unittest.runner.TextTestRunner()\n",
    "    loader = unittest.TestLoader()\n",
    "    suite = unittest.TestSuite()\n",
    "    for tc in TestCases:\n",
    "        suite.addTests(loader.loadTestsFromTestCase(tc))\n",
    "    runner.run(suite)"
   ]
  },
  {
   "cell_type": "code",
   "execution_count": 2,
   "metadata": {},
   "outputs": [],
   "source": [
    "class SimpleTest(unittest.TestCase):\n",
    "    def test(self):\n",
    "        pass"
   ]
  },
  {
   "cell_type": "code",
   "execution_count": 3,
   "metadata": {},
   "outputs": [
    {
     "name": "stderr",
     "output_type": "stream",
     "text": [
      ".\n",
      "----------------------------------------------------------------------\n",
      "Ran 1 test in 0.010s\n",
      "\n",
      "OK\n"
     ]
    }
   ],
   "source": [
    "run_tests(SimpleTest)"
   ]
  },
  {
   "cell_type": "code",
   "execution_count": 6,
   "metadata": {},
   "outputs": [],
   "source": [
    "class TestCards(unittest.TestCase):\n",
    "    \n",
    "    def test_create_card_ok(self):\n",
    "        for rank in ranks:\n",
    "            for suit in suits:\n",
    "                Card(rank=rank, suit=suit)\n",
    "                \n",
    "    def test_create_card_bad_rank(self):\n",
    "        with self.assertRaises(ValueError):\n",
    "            Card(rank='1', suit='spade')\n",
    "        \n",
    "    def test_create_card_bad_suit(self):\n",
    "        with self.assertRaises(ValueError):\n",
    "            Card(rank='A', suit='3-piece')\n",
    "        \n",
    "        "
   ]
  },
  {
   "cell_type": "code",
   "execution_count": 7,
   "metadata": {},
   "outputs": [
    {
     "name": "stderr",
     "output_type": "stream",
     "text": [
      "EEE\n",
      "======================================================================\n",
      "ERROR: test_create_card_bad_rank (__main__.TestCards)\n",
      "----------------------------------------------------------------------\n",
      "Traceback (most recent call last):\n",
      "  File \"<ipython-input-6-25caf630dbe6>\", line 10, in test_create_card_bad_rank\n",
      "    Card(rank='1', suit='spade')\n",
      "NameError: name 'Card' is not defined\n",
      "\n",
      "======================================================================\n",
      "ERROR: test_create_card_bad_suit (__main__.TestCards)\n",
      "----------------------------------------------------------------------\n",
      "Traceback (most recent call last):\n",
      "  File \"<ipython-input-6-25caf630dbe6>\", line 14, in test_create_card_bad_suit\n",
      "    Card(rank='A', suit='3-piece')\n",
      "NameError: name 'Card' is not defined\n",
      "\n",
      "======================================================================\n",
      "ERROR: test_create_card_ok (__main__.TestCards)\n",
      "----------------------------------------------------------------------\n",
      "Traceback (most recent call last):\n",
      "  File \"<ipython-input-6-25caf630dbe6>\", line 4, in test_create_card_ok\n",
      "    for rank in ranks:\n",
      "NameError: name 'ranks' is not defined\n",
      "\n",
      "----------------------------------------------------------------------\n",
      "Ran 3 tests in 0.020s\n",
      "\n",
      "FAILED (errors=3)\n"
     ]
    }
   ],
   "source": [
    "run_tests(TestCards)"
   ]
  },
  {
   "cell_type": "markdown",
   "metadata": {},
   "source": [
    "Write the `Card` class to make your test suite work"
   ]
  },
  {
   "cell_type": "code",
   "execution_count": 8,
   "metadata": {},
   "outputs": [
    {
     "name": "stderr",
     "output_type": "stream",
     "text": [
      "...\n",
      "----------------------------------------------------------------------\n",
      "Ran 3 tests in 0.017s\n",
      "\n",
      "OK\n"
     ]
    }
   ],
   "source": [
    "ranks = '2 3 4 5 6 7 8 9 10 J Q K A'.split()\n",
    "suits = 'spade club diamond heart'.split()\n",
    "\n",
    "class Card():\n",
    "    \n",
    "    def __init__(self, rank, suit):\n",
    "        if rank not in ranks:\n",
    "            raise ValueError(f'Invalid rank {rank}')\n",
    "        if suit not in suits:\n",
    "            raise ValueError(f'Invalid suit {suit}')\n",
    "        self.rank = rank\n",
    "        self.suit = suit\n",
    "        \n",
    "    def __eq__(self, other):\n",
    "        return self.rank == other.rank and self.suit == other.suit\n",
    "\n",
    "run_tests(TestCards)"
   ]
  },
  {
   "cell_type": "markdown",
   "metadata": {},
   "source": [
    "Write a test suite for creating decks. Ensure that the correct cards are created."
   ]
  },
  {
   "cell_type": "code",
   "execution_count": 9,
   "metadata": {},
   "outputs": [],
   "source": [
    "class TestDeck(unittest.TestCase):\n",
    "    \n",
    "    def test_create_deck_52(self):\n",
    "        deck = Deck()\n",
    "        self.assertEqual(len(deck), 52)\n",
    "        \n",
    "    def test_create_all_cards(self):\n",
    "        deck = Deck()\n",
    "        combinations = [\n",
    "            Card(rank, suit)\n",
    "            for rank in ranks\n",
    "            for suit in suits\n",
    "        ]\n",
    "        for card in deck:\n",
    "            combinations.remove(card)\n",
    "        self.assertEqual(combinations, [])\n",
    "            "
   ]
  },
  {
   "cell_type": "code",
   "execution_count": 10,
   "metadata": {},
   "outputs": [
    {
     "name": "stderr",
     "output_type": "stream",
     "text": [
      "EE\n",
      "======================================================================\n",
      "ERROR: test_create_all_cards (__main__.TestDeck)\n",
      "----------------------------------------------------------------------\n",
      "Traceback (most recent call last):\n",
      "  File \"<ipython-input-9-e5d00f0e6934>\", line 8, in test_create_all_cards\n",
      "    deck = Deck()\n",
      "NameError: name 'Deck' is not defined\n",
      "\n",
      "======================================================================\n",
      "ERROR: test_create_deck_52 (__main__.TestDeck)\n",
      "----------------------------------------------------------------------\n",
      "Traceback (most recent call last):\n",
      "  File \"<ipython-input-9-e5d00f0e6934>\", line 4, in test_create_deck_52\n",
      "    deck = Deck()\n",
      "NameError: name 'Deck' is not defined\n",
      "\n",
      "----------------------------------------------------------------------\n",
      "Ran 2 tests in 0.021s\n",
      "\n",
      "FAILED (errors=2)\n"
     ]
    }
   ],
   "source": [
    "run_tests(TestDeck)"
   ]
  },
  {
   "cell_type": "markdown",
   "metadata": {},
   "source": [
    "Implement the `Deck` class"
   ]
  },
  {
   "cell_type": "code",
   "execution_count": 11,
   "metadata": {},
   "outputs": [
    {
     "name": "stderr",
     "output_type": "stream",
     "text": [
      "..\n",
      "----------------------------------------------------------------------\n",
      "Ran 2 tests in 0.034s\n",
      "\n",
      "OK\n"
     ]
    }
   ],
   "source": [
    "class Deck():\n",
    "    def __init__(self):\n",
    "        self._cards = [\n",
    "            Card(rank, suit)\n",
    "            for rank in ranks\n",
    "            for suit in suits            \n",
    "        ]\n",
    "    \n",
    "    def __len__(self):\n",
    "        return len(self._cards)\n",
    "    \n",
    "    def __getitem__(self, position):\n",
    "        return self._cards[position]\n",
    "    \n",
    "run_tests(TestDeck)"
   ]
  },
  {
   "cell_type": "markdown",
   "metadata": {},
   "source": [
    "Write a test suite for creating `Hand` objects from `Deck.deal`"
   ]
  },
  {
   "cell_type": "code",
   "execution_count": 13,
   "metadata": {},
   "outputs": [
    {
     "name": "stderr",
     "output_type": "stream",
     "text": [
      "E\n",
      "======================================================================\n",
      "ERROR: test_deal_hand (__main__.TestHand)\n",
      "----------------------------------------------------------------------\n",
      "Traceback (most recent call last):\n",
      "  File \"<ipython-input-13-2a91f175bae4>\", line 5, in test_deal_hand\n",
      "    hand = deck.deal(2)\n",
      "AttributeError: 'Deck' object has no attribute 'deal'\n",
      "\n",
      "----------------------------------------------------------------------\n",
      "Ran 1 test in 0.004s\n",
      "\n",
      "FAILED (errors=1)\n"
     ]
    }
   ],
   "source": [
    "class TestHand(unittest.TestCase):\n",
    "    \n",
    "    def test_deal_hand(self):\n",
    "        deck = Deck()\n",
    "        hand = deck.deal(2)\n",
    "        self.assertEqual(len(hand), 2)\n",
    "        self.assertEqual(len(deck), 50)\n",
    "        \n",
    "run_tests(TestHand)"
   ]
  },
  {
   "cell_type": "markdown",
   "metadata": {},
   "source": [
    "Write the implementation of `Hand`"
   ]
  },
  {
   "cell_type": "code",
   "execution_count": 16,
   "metadata": {},
   "outputs": [
    {
     "name": "stderr",
     "output_type": "stream",
     "text": [
      "...\n",
      "----------------------------------------------------------------------\n",
      "Ran 3 tests in 0.025s\n",
      "\n",
      "OK\n"
     ]
    }
   ],
   "source": [
    "class Deck():\n",
    "    def __init__(self):\n",
    "        self._cards = [\n",
    "            Card(rank, suit)\n",
    "            for rank in ranks\n",
    "            for suit in suits            \n",
    "        ]\n",
    "    \n",
    "    def __len__(self):\n",
    "        return len(self._cards)\n",
    "    \n",
    "    def __getitem__(self, position):\n",
    "        return self._cards[position]\n",
    "    \n",
    "    def deal(self, count):\n",
    "        dealt = self._cards[:count]\n",
    "        self._cards = self._cards[count:]\n",
    "        return Hand(dealt)\n",
    "    \n",
    "\n",
    "class Hand():\n",
    "    def __init__(self, cards):\n",
    "        self._cards = cards[:]\n",
    "    \n",
    "    def __len__(self):\n",
    "        return len(self._cards)\n",
    "    \n",
    "    def __getitem__(self, position):\n",
    "        return self._cards[position]\n",
    "\n",
    "    \n",
    "run_tests(TestDeck, TestHand)\n"
   ]
  },
  {
   "cell_type": "code",
   "execution_count": 18,
   "metadata": {},
   "outputs": [
    {
     "name": "stderr",
     "output_type": "stream",
     "text": [
      "...\n",
      "----------------------------------------------------------------------\n",
      "Ran 3 tests in 0.020s\n",
      "\n",
      "OK\n"
     ]
    }
   ],
   "source": [
    "class CardStack():\n",
    "\n",
    "    def __init__(self, cards):\n",
    "        self._cards = cards[:]\n",
    "    \n",
    "    def __len__(self):\n",
    "        return len(self._cards)\n",
    "    \n",
    "    def __getitem__(self, position):\n",
    "        return self._cards[position]\n",
    "\n",
    "    \n",
    "class Deck(CardStack):\n",
    "    def __init__(self):\n",
    "        super().__init__([\n",
    "            Card(rank, suit)\n",
    "            for rank in ranks\n",
    "            for suit in suits            \n",
    "        ])\n",
    "    \n",
    "    def deal(self, count):\n",
    "        dealt = self._cards[:count]\n",
    "        self._cards = self._cards[count:]\n",
    "        return Hand(dealt)\n",
    "    \n",
    "\n",
    "class Hand(CardStack):\n",
    "    pass\n",
    "    \n",
    "run_tests(TestDeck, TestHand)\n"
   ]
  },
  {
   "cell_type": "markdown",
   "metadata": {},
   "source": [
    "## Enhancing for Blackjack\n",
    "\n",
    "Now, we have some more features that just came in this sprint:\n",
    "\n",
    "- Each `Hand` has a `score` method that will return a numeric score for the hand\n",
    "    - Scores are calculated as the sum of the numbered cards, with each 'face' card counting as 10\n",
    "    - Aces are scored as 11 *unless* such a score would put the `Hand`'s score above 21. In that case, they are scored as a 1.\n",
    "- There is a `draw(hand)` function in a `Deck` that will remove one card from the deck and add it to the hand\n",
    "- The `Deck` can be `random.shuffle()`d (you'll need at least a `__len__`, `__getitem__`, and `__setitem__` to make this work)"
   ]
  },
  {
   "cell_type": "markdown",
   "metadata": {},
   "source": [
    "Enhance your `Hand` `TestCase` to account for scoring hands. Be sure to handle aces properly"
   ]
  },
  {
   "cell_type": "code",
   "execution_count": null,
   "metadata": {},
   "outputs": [],
   "source": []
  },
  {
   "cell_type": "markdown",
   "metadata": {},
   "source": [
    "Enhance `Hand` to make the test pass"
   ]
  },
  {
   "cell_type": "code",
   "execution_count": null,
   "metadata": {},
   "outputs": [],
   "source": []
  },
  {
   "cell_type": "markdown",
   "metadata": {},
   "source": [
    "Write a test for drawing a card into a hand"
   ]
  },
  {
   "cell_type": "code",
   "execution_count": null,
   "metadata": {},
   "outputs": [],
   "source": []
  },
  {
   "cell_type": "markdown",
   "metadata": {},
   "source": [
    "Update your `Deck` and `Hand` to support drawing cards"
   ]
  },
  {
   "cell_type": "code",
   "execution_count": null,
   "metadata": {},
   "outputs": [],
   "source": []
  },
  {
   "cell_type": "markdown",
   "metadata": {},
   "source": [
    "Write a test for shuffling the deck"
   ]
  },
  {
   "cell_type": "code",
   "execution_count": null,
   "metadata": {},
   "outputs": [],
   "source": []
  },
  {
   "cell_type": "markdown",
   "metadata": {},
   "source": [
    "Make it pass"
   ]
  },
  {
   "cell_type": "code",
   "execution_count": null,
   "metadata": {},
   "outputs": [],
   "source": []
  }
 ],
 "metadata": {
  "kernelspec": {
   "display_name": "Python 3",
   "language": "python",
   "name": "python3"
  },
  "language_info": {
   "codemirror_mode": {
    "name": "ipython",
    "version": 3
   },
   "file_extension": ".py",
   "mimetype": "text/x-python",
   "name": "python",
   "nbconvert_exporter": "python",
   "pygments_lexer": "ipython3",
   "version": "3.7.3"
  }
 },
 "nbformat": 4,
 "nbformat_minor": 2
}
