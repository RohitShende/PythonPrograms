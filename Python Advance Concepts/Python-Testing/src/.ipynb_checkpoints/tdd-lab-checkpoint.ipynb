{
 "cells": [
  {
   "cell_type": "markdown",
   "metadata": {},
   "source": [
    "# Test-Driven Development Exercise\n",
    "\n",
    "Here, we'll use TDD to write the beginnings of a card game.\n",
    "\n",
    "To begin with, let's set up some requirements:\n",
    "\n",
    "- There is a `Card` class with a `rank` and `suit` attribute.\n",
    "    - `rank` attributes are strings, 1-2 characters long, from the set {'2' - '10', 'J', 'Q', 'K', 'A'}\n",
    "    - `suit` attributes are strings from the set {'spade', 'heart', 'club', 'diamond'}\n",
    "- There is a `Deck` class which creates a deck of 52 cards: one of each (rank, suit) combination\n",
    "- A `Deck` may `.deal(n)` a `Hand` of `n` cards"
   ]
  },
  {
   "cell_type": "markdown",
   "metadata": {},
   "source": [
    "Write a `TestCase` for creating cards. Be sure to test for (in-)valid rank and suit"
   ]
  },
  {
   "cell_type": "code",
   "execution_count": 1,
   "metadata": {},
   "outputs": [],
   "source": [
    "# normally we'd use unittest.main(), nosetests, or py.test to run our tests. In this case, we're going to \n",
    "# manually create our own test loader/runner\n",
    "import unittest\n",
    "\n",
    "def run_tests(*TestCases):\n",
    "    runner = unittest.runner.TextTestRunner()\n",
    "    loader = unittest.TestLoader()\n",
    "    suite = unittest.TestSuite()\n",
    "    for tc in TestCases:\n",
    "        suite.addTests(loader.loadTestsFromTestCase(tc))\n",
    "    runner.run(suite)"
   ]
  },
  {
   "cell_type": "code",
   "execution_count": 2,
   "metadata": {},
   "outputs": [],
   "source": [
    "class SimpleTest(unittest.TestCase):\n",
    "    def test_card_creation(self):\n",
    "        card = Card('5', 'spade')\n",
    "        self.assertInstance(card, Card)\n",
    "        \n",
    "    def test_invalid_card(self):\n",
    "        card = Card('X', 'Y')\n",
    "        assert self.assertRaises()"
   ]
  },
  {
   "cell_type": "code",
   "execution_count": 4,
   "metadata": {},
   "outputs": [
    {
     "name": "stderr",
     "output_type": "stream",
     "text": [
      ".\n",
      "----------------------------------------------------------------------\n",
      "Ran 1 test in 0.001s\n",
      "\n",
      "OK\n"
     ]
    }
   ],
   "source": [
    "run_tests(SimpleTest)"
   ]
  },
  {
   "cell_type": "code",
   "execution_count": null,
   "metadata": {},
   "outputs": [],
   "source": [
    "rank = {'2','3','4','5','6','7','8','9','10','J','Q','K','A'}\n",
    "suit = {'spade', 'heart', 'club', 'diamond'}\n",
    "\n",
    "class Card:\n",
    "    def __init__(self, rank, suit):\n",
    "        self.rank = rank\n",
    "        self.suit = suit"
   ]
  },
  {
   "cell_type": "markdown",
   "metadata": {},
   "source": [
    "Write the `Card` class to make your test suite work"
   ]
  },
  {
   "cell_type": "code",
   "execution_count": null,
   "metadata": {},
   "outputs": [],
   "source": []
  },
  {
   "cell_type": "markdown",
   "metadata": {},
   "source": [
    "Write a test suite for creating decks. Ensure that the correct cards are created."
   ]
  },
  {
   "cell_type": "code",
   "execution_count": null,
   "metadata": {},
   "outputs": [],
   "source": []
  },
  {
   "cell_type": "markdown",
   "metadata": {},
   "source": [
    "Implement the `Deck` class"
   ]
  },
  {
   "cell_type": "code",
   "execution_count": null,
   "metadata": {},
   "outputs": [],
   "source": []
  },
  {
   "cell_type": "markdown",
   "metadata": {},
   "source": [
    "Write a test suite for creating `Hand` objects from `Deck.deal`"
   ]
  },
  {
   "cell_type": "code",
   "execution_count": null,
   "metadata": {},
   "outputs": [],
   "source": []
  },
  {
   "cell_type": "markdown",
   "metadata": {},
   "source": [
    "Write the implementation of `Hand`"
   ]
  },
  {
   "cell_type": "code",
   "execution_count": null,
   "metadata": {},
   "outputs": [],
   "source": []
  },
  {
   "cell_type": "markdown",
   "metadata": {},
   "source": [
    "## Enhancing for Blackjack\n",
    "\n",
    "Now, we have some more features that just came in this sprint:\n",
    "\n",
    "- Each `Hand` has a `score` method that will return a numeric score for the hand\n",
    "    - Scores are calculated as the sum of the numbered cards, with each 'face' card counting as 10\n",
    "    - Aces are scored as 11 *unless* such a score would put the `Hand`'s score above 21. In that case, they are scored as a 1.\n",
    "- There is a `draw(hand)` function in a `Deck` that will remove one card from the deck and add it to the hand\n",
    "- The `Deck` can be `random.shuffle()`d (you'll need at least a `__len__`, `__getitem__`, and `__setitem__` to make this work)"
   ]
  },
  {
   "cell_type": "markdown",
   "metadata": {},
   "source": [
    "Enhance your `Hand` `TestCase` to account for scoring hands. Be sure to handle aces properly"
   ]
  },
  {
   "cell_type": "code",
   "execution_count": null,
   "metadata": {},
   "outputs": [],
   "source": []
  },
  {
   "cell_type": "markdown",
   "metadata": {},
   "source": [
    "Enhance `Hand` to make the test pass"
   ]
  },
  {
   "cell_type": "code",
   "execution_count": null,
   "metadata": {},
   "outputs": [],
   "source": []
  },
  {
   "cell_type": "markdown",
   "metadata": {},
   "source": [
    "Write a test for drawing a card into a hand"
   ]
  },
  {
   "cell_type": "code",
   "execution_count": null,
   "metadata": {},
   "outputs": [],
   "source": []
  },
  {
   "cell_type": "markdown",
   "metadata": {},
   "source": [
    "Update your `Deck` and `Hand` to support drawing cards"
   ]
  },
  {
   "cell_type": "code",
   "execution_count": null,
   "metadata": {},
   "outputs": [],
   "source": []
  },
  {
   "cell_type": "markdown",
   "metadata": {},
   "source": [
    "Write a test for shuffling the deck"
   ]
  },
  {
   "cell_type": "code",
   "execution_count": null,
   "metadata": {},
   "outputs": [],
   "source": []
  },
  {
   "cell_type": "markdown",
   "metadata": {},
   "source": [
    "Make it pass"
   ]
  },
  {
   "cell_type": "code",
   "execution_count": null,
   "metadata": {},
   "outputs": [],
   "source": []
  }
 ],
 "metadata": {
  "kernelspec": {
   "display_name": "Python 3",
   "language": "python",
   "name": "python3"
  },
  "language_info": {
   "codemirror_mode": {
    "name": "ipython",
    "version": 3
   },
   "file_extension": ".py",
   "mimetype": "text/x-python",
   "name": "python",
   "nbconvert_exporter": "python",
   "pygments_lexer": "ipython3",
   "version": "3.7.3"
  }
 },
 "nbformat": 4,
 "nbformat_minor": 2
}
