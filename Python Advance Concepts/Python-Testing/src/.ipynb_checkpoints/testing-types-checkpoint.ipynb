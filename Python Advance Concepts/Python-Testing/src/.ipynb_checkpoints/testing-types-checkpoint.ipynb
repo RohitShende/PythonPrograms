{
 "cells": [
  {
   "cell_type": "markdown",
   "metadata": {
    "slideshow": {
     "slide_type": "slide"
    }
   },
   "source": [
    "# Types of Testing\n",
    "\n",
    "- White box -vs- Black box\n",
    "- Unit Tests\n",
    "- Integration tests\n",
    "- Acceptance tests\n",
    "- Regression tests\n",
    "- Documentation tests"
   ]
  },
  {
   "cell_type": "markdown",
   "metadata": {
    "slideshow": {
     "slide_type": "slide"
    }
   },
   "source": [
    "# White-box vs Black-box testing\n",
    "\n",
    "## Black box: test the interfaces\n",
    "\n",
    "- No knowledge of internal workings of \"unit\" are assumed\n",
    "- Can easily swap out the implementation of a \"unit\" (keeping the same interface) without breaking test\n",
    "- Can easily miss \"edge\" cases\n",
    "\n",
    "## White box: test the implementation\n",
    "\n",
    "- Exhaustively test all code paths through the unit\n",
    "- Must understand the implementation\n",
    "- More confidence in test suite"
   ]
  },
  {
   "cell_type": "markdown",
   "metadata": {
    "slideshow": {
     "slide_type": "slide"
    }
   },
   "source": [
    "# Unit Tests\n",
    "\n",
    "- Test a logical \"unit\" of code *in isolation*\n",
    "- Run *fast*\n",
    "- Do not have external dependencies\n",
    "- Tend to be \"white box\" tests"
   ]
  },
  {
   "cell_type": "markdown",
   "metadata": {
    "slideshow": {
     "slide_type": "fragment"
    }
   },
   "source": [
    "## Benefits\n",
    "\n",
    "- Test failures easily isolate _what_ unit failed\n",
    "- Speed and isolation makes them easy to run frequently\n",
    "- Quick to write"
   ]
  },
  {
   "cell_type": "markdown",
   "metadata": {
    "slideshow": {
     "slide_type": "fragment"
    }
   },
   "source": [
    "## Drawbacks\n",
    "\n",
    "- Need a _lot_ of them\n",
    "- Don't find integration errors"
   ]
  },
  {
   "cell_type": "markdown",
   "metadata": {
    "slideshow": {
     "slide_type": "slide"
    }
   },
   "source": [
    "# Integration Tests\n",
    "\n",
    "- Test several units integration with one another\n",
    "- Can run slower than unit tests\n",
    "- External dependencies are allowed\n",
    "- Treat units as \"black boxes\""
   ]
  },
  {
   "cell_type": "markdown",
   "metadata": {
    "slideshow": {
     "slide_type": "fragment"
    }
   },
   "source": [
    "## Benefits\n",
    "\n",
    "- More test coverage from fewer tests\n",
    "- Actually test/find integration errors"
   ]
  },
  {
   "cell_type": "markdown",
   "metadata": {
    "slideshow": {
     "slide_type": "fragment"
    }
   },
   "source": [
    "## Drawbacks\n",
    "\n",
    "- Isolating the *cause* of a failure is often difficult\n",
    "- Tendency to have \"binary\" test suite state -- **all** passing / failing\n",
    "- Slower to run, so not run as frequently"
   ]
  },
  {
   "cell_type": "markdown",
   "metadata": {
    "slideshow": {
     "slide_type": "slide"
    }
   },
   "source": [
    "# You need both!\n",
    "\n",
    "- Unit tests written / run by developers frequently\n",
    "- Integration tests occasionally run by developers, frequently by CI/CD tool (Jenkins or something similar)\n",
    "- Code review helps here\n",
    "    - Don't allow untested code\n",
    "    - Don't allow test failures to go up on a commit"
   ]
  },
  {
   "cell_type": "markdown",
   "metadata": {
    "slideshow": {
     "slide_type": "slide"
    }
   },
   "source": [
    "# Acceptance tests\n",
    "\n",
    "- Ideally written by *users* (maybe with developer help)\n",
    "- \"If this test passes, then the business requirement is met.\"\n",
    "- Typically very high-level tests\n",
    "- \"Ready-ready\" / \"Done-done\"\n"
   ]
  },
  {
   "cell_type": "markdown",
   "metadata": {
    "slideshow": {
     "slide_type": "slide"
    }
   },
   "source": [
    "# Regression tests\n",
    "\n",
    "- When you have a bug, write a test that reproduces that bug *before* fixing it.\n",
    "- Start with an integration test, then drill down to unit tests that test the feature that actually \"broke\""
   ]
  }
 ],
 "metadata": {
  "celltoolbar": "Slideshow",
  "kernelspec": {
   "display_name": "Python 3",
   "language": "python",
   "name": "python3"
  },
  "language_info": {
   "codemirror_mode": {
    "name": "ipython",
    "version": 3
   },
   "file_extension": ".py",
   "mimetype": "text/x-python",
   "name": "python",
   "nbconvert_exporter": "python",
   "pygments_lexer": "ipython3",
   "version": "3.7.3"
  }
 },
 "nbformat": 4,
 "nbformat_minor": 2
}
